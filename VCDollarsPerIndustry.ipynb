{
  "nbformat": 4,
  "nbformat_minor": 0,
  "metadata": {
    "colab": {
      "provenance": []
    },
    "kernelspec": {
      "name": "python3",
      "display_name": "Python 3"
    },
    "language_info": {
      "name": "python"
    }
  },
  "cells": [
    {
      "cell_type": "code",
      "source": [
        "!pip install -U kaleido"
      ],
      "metadata": {
        "colab": {
          "base_uri": "https://localhost:8080/"
        },
        "id": "bX0mOYUAYvZz",
        "outputId": "99fe0ed7-8971-4a04-f304-06c92645eabe"
      },
      "execution_count": null,
      "outputs": [
        {
          "output_type": "stream",
          "name": "stdout",
          "text": [
            "Requirement already satisfied: kaleido in /usr/local/lib/python3.10/dist-packages (0.2.1)\n"
          ]
        }
      ]
    },
    {
      "cell_type": "code",
      "source": [
        "import pandas as pd\n",
        "import numpy as np\n",
        "import seaborn as sns\n",
        "import matplotlib.pyplot as plt\n",
        "import plotly.express as px"
      ],
      "metadata": {
        "id": "sDhS3yDDiRxv"
      },
      "execution_count": null,
      "outputs": []
    },
    {
      "cell_type": "code",
      "source": [
        "odf = pd.read_csv(\"/content/drive/MyDrive/Datasets/dataset1/objects.csv\")"
      ],
      "metadata": {
        "colab": {
          "base_uri": "https://localhost:8080/"
        },
        "id": "0pweyChViUgH",
        "outputId": "c77f7789-14c9-49f9-db51-1baa99895196"
      },
      "execution_count": null,
      "outputs": [
        {
          "output_type": "stream",
          "name": "stderr",
          "text": [
            "<ipython-input-3-07e0733d07ce>:1: DtypeWarning: Columns (3,7,9,10,17,18,21,22,23,25,26,29,30,37) have mixed types. Specify dtype option on import or set low_memory=False.\n",
            "  odf = pd.read_csv(\"/content/drive/MyDrive/Datasets/dataset1/objects.csv\")\n"
          ]
        }
      ]
    },
    {
      "cell_type": "code",
      "source": [
        "mask = odf['category_code'].notnull()\n",
        "odf = odf[mask]\n",
        "odf.shape"
      ],
      "metadata": {
        "id": "jS9z5W8IL-zX",
        "colab": {
          "base_uri": "https://localhost:8080/"
        },
        "outputId": "5aa26bef-2279-4824-a7b8-5166adfe477e"
      },
      "execution_count": null,
      "outputs": [
        {
          "output_type": "execute_result",
          "data": {
            "text/plain": [
              "(123186, 40)"
            ]
          },
          "metadata": {},
          "execution_count": 4
        }
      ]
    },
    {
      "cell_type": "code",
      "source": [
        "df = odf.groupby('category_code')['funding_total_usd'].mean().sort_values().tail(10)"
      ],
      "metadata": {
        "id": "_Gs439ijoCbP"
      },
      "execution_count": null,
      "outputs": []
    },
    {
      "cell_type": "code",
      "source": [
        "fig = px.bar(\n",
        "    x=df,\n",
        "    y=df.index,\n",
        "    orientation='h',\n",
        "    title='Average Total funding(USD) per Industry'\n",
        ")\n",
        "\n",
        "fig.update_layout(xaxis_title='Average Total Funding (USD)', yaxis_title='Industry')\n",
        "fig.write_image(\"DollarsVsIndustry.png\")\n",
        "fig.show()"
      ],
      "metadata": {
        "colab": {
          "base_uri": "https://localhost:8080/",
          "height": 542
        },
        "id": "iNmOuCX-z9n7",
        "outputId": "c8698978-4d69-4c9f-e8a2-6a14f1f216a3"
      },
      "execution_count": null,
      "outputs": [
        {
          "output_type": "display_data",
          "data": {
            "text/html": [
              "<html>\n",
              "<head><meta charset=\"utf-8\" /></head>\n",
              "<body>\n",
              "    <div>            <script src=\"https://cdnjs.cloudflare.com/ajax/libs/mathjax/2.7.5/MathJax.js?config=TeX-AMS-MML_SVG\"></script><script type=\"text/javascript\">if (window.MathJax && window.MathJax.Hub && window.MathJax.Hub.Config) {window.MathJax.Hub.Config({SVG: {font: \"STIX-Web\"}});}</script>                <script type=\"text/javascript\">window.PlotlyConfig = {MathJaxConfig: 'local'};</script>\n",
              "        <script charset=\"utf-8\" src=\"https://cdn.plot.ly/plotly-2.24.1.min.js\"></script>                <div id=\"19a11156-0d50-4687-9aa2-68fd543543f3\" class=\"plotly-graph-div\" style=\"height:525px; width:100%;\"></div>            <script type=\"text/javascript\">                                    window.PLOTLYENV=window.PLOTLYENV || {};                                    if (document.getElementById(\"19a11156-0d50-4687-9aa2-68fd543543f3\")) {                    Plotly.newPlot(                        \"19a11156-0d50-4687-9aa2-68fd543543f3\",                        [{\"alignmentgroup\":\"True\",\"hovertemplate\":\"x=%{x}\\u003cbr\\u003ey=%{y}\\u003cextra\\u003e\\u003c\\u002fextra\\u003e\",\"legendgroup\":\"\",\"marker\":{\"color\":\"#636efa\",\"pattern\":{\"shape\":\"\"}},\"name\":\"\",\"offsetgroup\":\"\",\"orientation\":\"h\",\"showlegend\":false,\"textposition\":\"auto\",\"x\":[6079549.51323655,6554121.280821918,6850665.195945946,8722338.258823529,11478902.534258457,12351274.048109965,15094511.068171557,16022284.100574713,19933089.48298969,30861291.64285714],\"xaxis\":\"x\",\"y\":[\"security\",\"analytics\",\"messaging\",\"manufacturing\",\"medical\",\"automotive\",\"biotech\",\"semiconductor\",\"cleantech\",\"nanotech\"],\"yaxis\":\"y\",\"type\":\"bar\"}],                        {\"template\":{\"data\":{\"histogram2dcontour\":[{\"type\":\"histogram2dcontour\",\"colorbar\":{\"outlinewidth\":0,\"ticks\":\"\"},\"colorscale\":[[0.0,\"#0d0887\"],[0.1111111111111111,\"#46039f\"],[0.2222222222222222,\"#7201a8\"],[0.3333333333333333,\"#9c179e\"],[0.4444444444444444,\"#bd3786\"],[0.5555555555555556,\"#d8576b\"],[0.6666666666666666,\"#ed7953\"],[0.7777777777777778,\"#fb9f3a\"],[0.8888888888888888,\"#fdca26\"],[1.0,\"#f0f921\"]]}],\"choropleth\":[{\"type\":\"choropleth\",\"colorbar\":{\"outlinewidth\":0,\"ticks\":\"\"}}],\"histogram2d\":[{\"type\":\"histogram2d\",\"colorbar\":{\"outlinewidth\":0,\"ticks\":\"\"},\"colorscale\":[[0.0,\"#0d0887\"],[0.1111111111111111,\"#46039f\"],[0.2222222222222222,\"#7201a8\"],[0.3333333333333333,\"#9c179e\"],[0.4444444444444444,\"#bd3786\"],[0.5555555555555556,\"#d8576b\"],[0.6666666666666666,\"#ed7953\"],[0.7777777777777778,\"#fb9f3a\"],[0.8888888888888888,\"#fdca26\"],[1.0,\"#f0f921\"]]}],\"heatmap\":[{\"type\":\"heatmap\",\"colorbar\":{\"outlinewidth\":0,\"ticks\":\"\"},\"colorscale\":[[0.0,\"#0d0887\"],[0.1111111111111111,\"#46039f\"],[0.2222222222222222,\"#7201a8\"],[0.3333333333333333,\"#9c179e\"],[0.4444444444444444,\"#bd3786\"],[0.5555555555555556,\"#d8576b\"],[0.6666666666666666,\"#ed7953\"],[0.7777777777777778,\"#fb9f3a\"],[0.8888888888888888,\"#fdca26\"],[1.0,\"#f0f921\"]]}],\"heatmapgl\":[{\"type\":\"heatmapgl\",\"colorbar\":{\"outlinewidth\":0,\"ticks\":\"\"},\"colorscale\":[[0.0,\"#0d0887\"],[0.1111111111111111,\"#46039f\"],[0.2222222222222222,\"#7201a8\"],[0.3333333333333333,\"#9c179e\"],[0.4444444444444444,\"#bd3786\"],[0.5555555555555556,\"#d8576b\"],[0.6666666666666666,\"#ed7953\"],[0.7777777777777778,\"#fb9f3a\"],[0.8888888888888888,\"#fdca26\"],[1.0,\"#f0f921\"]]}],\"contourcarpet\":[{\"type\":\"contourcarpet\",\"colorbar\":{\"outlinewidth\":0,\"ticks\":\"\"}}],\"contour\":[{\"type\":\"contour\",\"colorbar\":{\"outlinewidth\":0,\"ticks\":\"\"},\"colorscale\":[[0.0,\"#0d0887\"],[0.1111111111111111,\"#46039f\"],[0.2222222222222222,\"#7201a8\"],[0.3333333333333333,\"#9c179e\"],[0.4444444444444444,\"#bd3786\"],[0.5555555555555556,\"#d8576b\"],[0.6666666666666666,\"#ed7953\"],[0.7777777777777778,\"#fb9f3a\"],[0.8888888888888888,\"#fdca26\"],[1.0,\"#f0f921\"]]}],\"surface\":[{\"type\":\"surface\",\"colorbar\":{\"outlinewidth\":0,\"ticks\":\"\"},\"colorscale\":[[0.0,\"#0d0887\"],[0.1111111111111111,\"#46039f\"],[0.2222222222222222,\"#7201a8\"],[0.3333333333333333,\"#9c179e\"],[0.4444444444444444,\"#bd3786\"],[0.5555555555555556,\"#d8576b\"],[0.6666666666666666,\"#ed7953\"],[0.7777777777777778,\"#fb9f3a\"],[0.8888888888888888,\"#fdca26\"],[1.0,\"#f0f921\"]]}],\"mesh3d\":[{\"type\":\"mesh3d\",\"colorbar\":{\"outlinewidth\":0,\"ticks\":\"\"}}],\"scatter\":[{\"fillpattern\":{\"fillmode\":\"overlay\",\"size\":10,\"solidity\":0.2},\"type\":\"scatter\"}],\"parcoords\":[{\"type\":\"parcoords\",\"line\":{\"colorbar\":{\"outlinewidth\":0,\"ticks\":\"\"}}}],\"scatterpolargl\":[{\"type\":\"scatterpolargl\",\"marker\":{\"colorbar\":{\"outlinewidth\":0,\"ticks\":\"\"}}}],\"bar\":[{\"error_x\":{\"color\":\"#2a3f5f\"},\"error_y\":{\"color\":\"#2a3f5f\"},\"marker\":{\"line\":{\"color\":\"#E5ECF6\",\"width\":0.5},\"pattern\":{\"fillmode\":\"overlay\",\"size\":10,\"solidity\":0.2}},\"type\":\"bar\"}],\"scattergeo\":[{\"type\":\"scattergeo\",\"marker\":{\"colorbar\":{\"outlinewidth\":0,\"ticks\":\"\"}}}],\"scatterpolar\":[{\"type\":\"scatterpolar\",\"marker\":{\"colorbar\":{\"outlinewidth\":0,\"ticks\":\"\"}}}],\"histogram\":[{\"marker\":{\"pattern\":{\"fillmode\":\"overlay\",\"size\":10,\"solidity\":0.2}},\"type\":\"histogram\"}],\"scattergl\":[{\"type\":\"scattergl\",\"marker\":{\"colorbar\":{\"outlinewidth\":0,\"ticks\":\"\"}}}],\"scatter3d\":[{\"type\":\"scatter3d\",\"line\":{\"colorbar\":{\"outlinewidth\":0,\"ticks\":\"\"}},\"marker\":{\"colorbar\":{\"outlinewidth\":0,\"ticks\":\"\"}}}],\"scattermapbox\":[{\"type\":\"scattermapbox\",\"marker\":{\"colorbar\":{\"outlinewidth\":0,\"ticks\":\"\"}}}],\"scatterternary\":[{\"type\":\"scatterternary\",\"marker\":{\"colorbar\":{\"outlinewidth\":0,\"ticks\":\"\"}}}],\"scattercarpet\":[{\"type\":\"scattercarpet\",\"marker\":{\"colorbar\":{\"outlinewidth\":0,\"ticks\":\"\"}}}],\"carpet\":[{\"aaxis\":{\"endlinecolor\":\"#2a3f5f\",\"gridcolor\":\"white\",\"linecolor\":\"white\",\"minorgridcolor\":\"white\",\"startlinecolor\":\"#2a3f5f\"},\"baxis\":{\"endlinecolor\":\"#2a3f5f\",\"gridcolor\":\"white\",\"linecolor\":\"white\",\"minorgridcolor\":\"white\",\"startlinecolor\":\"#2a3f5f\"},\"type\":\"carpet\"}],\"table\":[{\"cells\":{\"fill\":{\"color\":\"#EBF0F8\"},\"line\":{\"color\":\"white\"}},\"header\":{\"fill\":{\"color\":\"#C8D4E3\"},\"line\":{\"color\":\"white\"}},\"type\":\"table\"}],\"barpolar\":[{\"marker\":{\"line\":{\"color\":\"#E5ECF6\",\"width\":0.5},\"pattern\":{\"fillmode\":\"overlay\",\"size\":10,\"solidity\":0.2}},\"type\":\"barpolar\"}],\"pie\":[{\"automargin\":true,\"type\":\"pie\"}]},\"layout\":{\"autotypenumbers\":\"strict\",\"colorway\":[\"#636efa\",\"#EF553B\",\"#00cc96\",\"#ab63fa\",\"#FFA15A\",\"#19d3f3\",\"#FF6692\",\"#B6E880\",\"#FF97FF\",\"#FECB52\"],\"font\":{\"color\":\"#2a3f5f\"},\"hovermode\":\"closest\",\"hoverlabel\":{\"align\":\"left\"},\"paper_bgcolor\":\"white\",\"plot_bgcolor\":\"#E5ECF6\",\"polar\":{\"bgcolor\":\"#E5ECF6\",\"angularaxis\":{\"gridcolor\":\"white\",\"linecolor\":\"white\",\"ticks\":\"\"},\"radialaxis\":{\"gridcolor\":\"white\",\"linecolor\":\"white\",\"ticks\":\"\"}},\"ternary\":{\"bgcolor\":\"#E5ECF6\",\"aaxis\":{\"gridcolor\":\"white\",\"linecolor\":\"white\",\"ticks\":\"\"},\"baxis\":{\"gridcolor\":\"white\",\"linecolor\":\"white\",\"ticks\":\"\"},\"caxis\":{\"gridcolor\":\"white\",\"linecolor\":\"white\",\"ticks\":\"\"}},\"coloraxis\":{\"colorbar\":{\"outlinewidth\":0,\"ticks\":\"\"}},\"colorscale\":{\"sequential\":[[0.0,\"#0d0887\"],[0.1111111111111111,\"#46039f\"],[0.2222222222222222,\"#7201a8\"],[0.3333333333333333,\"#9c179e\"],[0.4444444444444444,\"#bd3786\"],[0.5555555555555556,\"#d8576b\"],[0.6666666666666666,\"#ed7953\"],[0.7777777777777778,\"#fb9f3a\"],[0.8888888888888888,\"#fdca26\"],[1.0,\"#f0f921\"]],\"sequentialminus\":[[0.0,\"#0d0887\"],[0.1111111111111111,\"#46039f\"],[0.2222222222222222,\"#7201a8\"],[0.3333333333333333,\"#9c179e\"],[0.4444444444444444,\"#bd3786\"],[0.5555555555555556,\"#d8576b\"],[0.6666666666666666,\"#ed7953\"],[0.7777777777777778,\"#fb9f3a\"],[0.8888888888888888,\"#fdca26\"],[1.0,\"#f0f921\"]],\"diverging\":[[0,\"#8e0152\"],[0.1,\"#c51b7d\"],[0.2,\"#de77ae\"],[0.3,\"#f1b6da\"],[0.4,\"#fde0ef\"],[0.5,\"#f7f7f7\"],[0.6,\"#e6f5d0\"],[0.7,\"#b8e186\"],[0.8,\"#7fbc41\"],[0.9,\"#4d9221\"],[1,\"#276419\"]]},\"xaxis\":{\"gridcolor\":\"white\",\"linecolor\":\"white\",\"ticks\":\"\",\"title\":{\"standoff\":15},\"zerolinecolor\":\"white\",\"automargin\":true,\"zerolinewidth\":2},\"yaxis\":{\"gridcolor\":\"white\",\"linecolor\":\"white\",\"ticks\":\"\",\"title\":{\"standoff\":15},\"zerolinecolor\":\"white\",\"automargin\":true,\"zerolinewidth\":2},\"scene\":{\"xaxis\":{\"backgroundcolor\":\"#E5ECF6\",\"gridcolor\":\"white\",\"linecolor\":\"white\",\"showbackground\":true,\"ticks\":\"\",\"zerolinecolor\":\"white\",\"gridwidth\":2},\"yaxis\":{\"backgroundcolor\":\"#E5ECF6\",\"gridcolor\":\"white\",\"linecolor\":\"white\",\"showbackground\":true,\"ticks\":\"\",\"zerolinecolor\":\"white\",\"gridwidth\":2},\"zaxis\":{\"backgroundcolor\":\"#E5ECF6\",\"gridcolor\":\"white\",\"linecolor\":\"white\",\"showbackground\":true,\"ticks\":\"\",\"zerolinecolor\":\"white\",\"gridwidth\":2}},\"shapedefaults\":{\"line\":{\"color\":\"#2a3f5f\"}},\"annotationdefaults\":{\"arrowcolor\":\"#2a3f5f\",\"arrowhead\":0,\"arrowwidth\":1},\"geo\":{\"bgcolor\":\"white\",\"landcolor\":\"#E5ECF6\",\"subunitcolor\":\"white\",\"showland\":true,\"showlakes\":true,\"lakecolor\":\"white\"},\"title\":{\"x\":0.05},\"mapbox\":{\"style\":\"light\"}}},\"xaxis\":{\"anchor\":\"y\",\"domain\":[0.0,1.0],\"title\":{\"text\":\"Average Total Funding (USD)\"}},\"yaxis\":{\"anchor\":\"x\",\"domain\":[0.0,1.0],\"title\":{\"text\":\"Industry\"}},\"legend\":{\"tracegroupgap\":0},\"title\":{\"text\":\"Average Total funding(USD) per Industry\"},\"barmode\":\"relative\"},                        {\"responsive\": true}                    ).then(function(){\n",
              "                            \n",
              "var gd = document.getElementById('19a11156-0d50-4687-9aa2-68fd543543f3');\n",
              "var x = new MutationObserver(function (mutations, observer) {{\n",
              "        var display = window.getComputedStyle(gd).display;\n",
              "        if (!display || display === 'none') {{\n",
              "            console.log([gd, 'removed!']);\n",
              "            Plotly.purge(gd);\n",
              "            observer.disconnect();\n",
              "        }}\n",
              "}});\n",
              "\n",
              "// Listen for the removal of the full notebook cells\n",
              "var notebookContainer = gd.closest('#notebook-container');\n",
              "if (notebookContainer) {{\n",
              "    x.observe(notebookContainer, {childList: true});\n",
              "}}\n",
              "\n",
              "// Listen for the clearing of the current output cell\n",
              "var outputEl = gd.closest('.output');\n",
              "if (outputEl) {{\n",
              "    x.observe(outputEl, {childList: true});\n",
              "}}\n",
              "\n",
              "                        })                };                            </script>        </div>\n",
              "</body>\n",
              "</html>"
            ]
          },
          "metadata": {}
        }
      ]
    },
    {
      "cell_type": "code",
      "source": [
        "df3 = pd.read_csv(\"/content/drive/MyDrive/Datasets/dataset3.csv\")\n",
        "df3.info()"
      ],
      "metadata": {
        "colab": {
          "base_uri": "https://localhost:8080/"
        },
        "id": "3hVFoxAB2L5T",
        "outputId": "dc8707cc-86bf-4407-e871-2a40a6cdaf35"
      },
      "execution_count": null,
      "outputs": [
        {
          "output_type": "stream",
          "name": "stdout",
          "text": [
            "<class 'pandas.core.series.Series'>\n",
            "Index: 10 entries, security to nanotech\n",
            "Series name: funding_total_usd\n",
            "Non-Null Count  Dtype  \n",
            "--------------  -----  \n",
            "10 non-null     float64\n",
            "dtypes: float64(1)\n",
            "memory usage: 160.0+ bytes\n"
          ]
        }
      ]
    },
    {
      "cell_type": "code",
      "source": [
        "df1 = df3.groupby('category_code')['funding_total_usd'].mean().sort_values().tail(10)\n",
        "df1"
      ],
      "metadata": {
        "colab": {
          "base_uri": "https://localhost:8080/"
        },
        "id": "w2T-GrfA4jgl",
        "outputId": "6bdfc38d-af93-4be8-f102-90c5b7fde680"
      },
      "execution_count": null,
      "outputs": [
        {
          "output_type": "execute_result",
          "data": {
            "text/plain": [
              "category_code\n",
              "medical           2.376209e+07\n",
              "automotive        2.600000e+07\n",
              "hardware          2.866440e+07\n",
              "other             3.139175e+07\n",
              "semiconductor     3.157591e+07\n",
              "finance           3.219645e+07\n",
              "biotech           5.069704e+07\n",
              "cleantech         5.653412e+07\n",
              "transportation    6.385218e+07\n",
              "mobile            9.194621e+07\n",
              "Name: funding_total_usd, dtype: float64"
            ]
          },
          "metadata": {},
          "execution_count": 8
        }
      ]
    },
    {
      "cell_type": "code",
      "source": [
        "fig = px.bar(\n",
        "    x=df1,\n",
        "    y=df1.index,\n",
        "    orientation='h',\n",
        "    title='Average Total funding(USD) per Industry'\n",
        ")\n",
        "\n",
        "fig.update_layout(xaxis_title='Average Total Funding (USD)', yaxis_title='Industry')\n",
        "fig.write_image(\"DollarsVsIndustry(dataset3).png\")\n",
        "fig.show()"
      ],
      "metadata": {
        "colab": {
          "base_uri": "https://localhost:8080/",
          "height": 542
        },
        "id": "LWDycFL75Dfs",
        "outputId": "b08d3ac6-fdf8-4e15-8250-cc8eff7352c7"
      },
      "execution_count": null,
      "outputs": [
        {
          "output_type": "display_data",
          "data": {
            "text/html": [
              "<html>\n",
              "<head><meta charset=\"utf-8\" /></head>\n",
              "<body>\n",
              "    <div>            <script src=\"https://cdnjs.cloudflare.com/ajax/libs/mathjax/2.7.5/MathJax.js?config=TeX-AMS-MML_SVG\"></script><script type=\"text/javascript\">if (window.MathJax && window.MathJax.Hub && window.MathJax.Hub.Config) {window.MathJax.Hub.Config({SVG: {font: \"STIX-Web\"}});}</script>                <script type=\"text/javascript\">window.PlotlyConfig = {MathJaxConfig: 'local'};</script>\n",
              "        <script charset=\"utf-8\" src=\"https://cdn.plot.ly/plotly-2.24.1.min.js\"></script>                <div id=\"8c2ed967-f23a-4907-8517-39bde58061d8\" class=\"plotly-graph-div\" style=\"height:525px; width:100%;\"></div>            <script type=\"text/javascript\">                                    window.PLOTLYENV=window.PLOTLYENV || {};                                    if (document.getElementById(\"8c2ed967-f23a-4907-8517-39bde58061d8\")) {                    Plotly.newPlot(                        \"8c2ed967-f23a-4907-8517-39bde58061d8\",                        [{\"alignmentgroup\":\"True\",\"hovertemplate\":\"x=%{x}\\u003cbr\\u003ey=%{y}\\u003cextra\\u003e\\u003c\\u002fextra\\u003e\",\"legendgroup\":\"\",\"marker\":{\"color\":\"#636efa\",\"pattern\":{\"shape\":\"\"}},\"name\":\"\",\"offsetgroup\":\"\",\"orientation\":\"h\",\"showlegend\":false,\"textposition\":\"auto\",\"x\":[23762088.0,26000000.0,28664402.703703705,31391748.454545453,31575913.42857143,32196450.666666668,50697043.64705882,56534118.69565217,63852185.0,91946213.68354431],\"xaxis\":\"x\",\"y\":[\"medical\",\"automotive\",\"hardware\",\"other\",\"semiconductor\",\"finance\",\"biotech\",\"cleantech\",\"transportation\",\"mobile\"],\"yaxis\":\"y\",\"type\":\"bar\"}],                        {\"template\":{\"data\":{\"histogram2dcontour\":[{\"type\":\"histogram2dcontour\",\"colorbar\":{\"outlinewidth\":0,\"ticks\":\"\"},\"colorscale\":[[0.0,\"#0d0887\"],[0.1111111111111111,\"#46039f\"],[0.2222222222222222,\"#7201a8\"],[0.3333333333333333,\"#9c179e\"],[0.4444444444444444,\"#bd3786\"],[0.5555555555555556,\"#d8576b\"],[0.6666666666666666,\"#ed7953\"],[0.7777777777777778,\"#fb9f3a\"],[0.8888888888888888,\"#fdca26\"],[1.0,\"#f0f921\"]]}],\"choropleth\":[{\"type\":\"choropleth\",\"colorbar\":{\"outlinewidth\":0,\"ticks\":\"\"}}],\"histogram2d\":[{\"type\":\"histogram2d\",\"colorbar\":{\"outlinewidth\":0,\"ticks\":\"\"},\"colorscale\":[[0.0,\"#0d0887\"],[0.1111111111111111,\"#46039f\"],[0.2222222222222222,\"#7201a8\"],[0.3333333333333333,\"#9c179e\"],[0.4444444444444444,\"#bd3786\"],[0.5555555555555556,\"#d8576b\"],[0.6666666666666666,\"#ed7953\"],[0.7777777777777778,\"#fb9f3a\"],[0.8888888888888888,\"#fdca26\"],[1.0,\"#f0f921\"]]}],\"heatmap\":[{\"type\":\"heatmap\",\"colorbar\":{\"outlinewidth\":0,\"ticks\":\"\"},\"colorscale\":[[0.0,\"#0d0887\"],[0.1111111111111111,\"#46039f\"],[0.2222222222222222,\"#7201a8\"],[0.3333333333333333,\"#9c179e\"],[0.4444444444444444,\"#bd3786\"],[0.5555555555555556,\"#d8576b\"],[0.6666666666666666,\"#ed7953\"],[0.7777777777777778,\"#fb9f3a\"],[0.8888888888888888,\"#fdca26\"],[1.0,\"#f0f921\"]]}],\"heatmapgl\":[{\"type\":\"heatmapgl\",\"colorbar\":{\"outlinewidth\":0,\"ticks\":\"\"},\"colorscale\":[[0.0,\"#0d0887\"],[0.1111111111111111,\"#46039f\"],[0.2222222222222222,\"#7201a8\"],[0.3333333333333333,\"#9c179e\"],[0.4444444444444444,\"#bd3786\"],[0.5555555555555556,\"#d8576b\"],[0.6666666666666666,\"#ed7953\"],[0.7777777777777778,\"#fb9f3a\"],[0.8888888888888888,\"#fdca26\"],[1.0,\"#f0f921\"]]}],\"contourcarpet\":[{\"type\":\"contourcarpet\",\"colorbar\":{\"outlinewidth\":0,\"ticks\":\"\"}}],\"contour\":[{\"type\":\"contour\",\"colorbar\":{\"outlinewidth\":0,\"ticks\":\"\"},\"colorscale\":[[0.0,\"#0d0887\"],[0.1111111111111111,\"#46039f\"],[0.2222222222222222,\"#7201a8\"],[0.3333333333333333,\"#9c179e\"],[0.4444444444444444,\"#bd3786\"],[0.5555555555555556,\"#d8576b\"],[0.6666666666666666,\"#ed7953\"],[0.7777777777777778,\"#fb9f3a\"],[0.8888888888888888,\"#fdca26\"],[1.0,\"#f0f921\"]]}],\"surface\":[{\"type\":\"surface\",\"colorbar\":{\"outlinewidth\":0,\"ticks\":\"\"},\"colorscale\":[[0.0,\"#0d0887\"],[0.1111111111111111,\"#46039f\"],[0.2222222222222222,\"#7201a8\"],[0.3333333333333333,\"#9c179e\"],[0.4444444444444444,\"#bd3786\"],[0.5555555555555556,\"#d8576b\"],[0.6666666666666666,\"#ed7953\"],[0.7777777777777778,\"#fb9f3a\"],[0.8888888888888888,\"#fdca26\"],[1.0,\"#f0f921\"]]}],\"mesh3d\":[{\"type\":\"mesh3d\",\"colorbar\":{\"outlinewidth\":0,\"ticks\":\"\"}}],\"scatter\":[{\"fillpattern\":{\"fillmode\":\"overlay\",\"size\":10,\"solidity\":0.2},\"type\":\"scatter\"}],\"parcoords\":[{\"type\":\"parcoords\",\"line\":{\"colorbar\":{\"outlinewidth\":0,\"ticks\":\"\"}}}],\"scatterpolargl\":[{\"type\":\"scatterpolargl\",\"marker\":{\"colorbar\":{\"outlinewidth\":0,\"ticks\":\"\"}}}],\"bar\":[{\"error_x\":{\"color\":\"#2a3f5f\"},\"error_y\":{\"color\":\"#2a3f5f\"},\"marker\":{\"line\":{\"color\":\"#E5ECF6\",\"width\":0.5},\"pattern\":{\"fillmode\":\"overlay\",\"size\":10,\"solidity\":0.2}},\"type\":\"bar\"}],\"scattergeo\":[{\"type\":\"scattergeo\",\"marker\":{\"colorbar\":{\"outlinewidth\":0,\"ticks\":\"\"}}}],\"scatterpolar\":[{\"type\":\"scatterpolar\",\"marker\":{\"colorbar\":{\"outlinewidth\":0,\"ticks\":\"\"}}}],\"histogram\":[{\"marker\":{\"pattern\":{\"fillmode\":\"overlay\",\"size\":10,\"solidity\":0.2}},\"type\":\"histogram\"}],\"scattergl\":[{\"type\":\"scattergl\",\"marker\":{\"colorbar\":{\"outlinewidth\":0,\"ticks\":\"\"}}}],\"scatter3d\":[{\"type\":\"scatter3d\",\"line\":{\"colorbar\":{\"outlinewidth\":0,\"ticks\":\"\"}},\"marker\":{\"colorbar\":{\"outlinewidth\":0,\"ticks\":\"\"}}}],\"scattermapbox\":[{\"type\":\"scattermapbox\",\"marker\":{\"colorbar\":{\"outlinewidth\":0,\"ticks\":\"\"}}}],\"scatterternary\":[{\"type\":\"scatterternary\",\"marker\":{\"colorbar\":{\"outlinewidth\":0,\"ticks\":\"\"}}}],\"scattercarpet\":[{\"type\":\"scattercarpet\",\"marker\":{\"colorbar\":{\"outlinewidth\":0,\"ticks\":\"\"}}}],\"carpet\":[{\"aaxis\":{\"endlinecolor\":\"#2a3f5f\",\"gridcolor\":\"white\",\"linecolor\":\"white\",\"minorgridcolor\":\"white\",\"startlinecolor\":\"#2a3f5f\"},\"baxis\":{\"endlinecolor\":\"#2a3f5f\",\"gridcolor\":\"white\",\"linecolor\":\"white\",\"minorgridcolor\":\"white\",\"startlinecolor\":\"#2a3f5f\"},\"type\":\"carpet\"}],\"table\":[{\"cells\":{\"fill\":{\"color\":\"#EBF0F8\"},\"line\":{\"color\":\"white\"}},\"header\":{\"fill\":{\"color\":\"#C8D4E3\"},\"line\":{\"color\":\"white\"}},\"type\":\"table\"}],\"barpolar\":[{\"marker\":{\"line\":{\"color\":\"#E5ECF6\",\"width\":0.5},\"pattern\":{\"fillmode\":\"overlay\",\"size\":10,\"solidity\":0.2}},\"type\":\"barpolar\"}],\"pie\":[{\"automargin\":true,\"type\":\"pie\"}]},\"layout\":{\"autotypenumbers\":\"strict\",\"colorway\":[\"#636efa\",\"#EF553B\",\"#00cc96\",\"#ab63fa\",\"#FFA15A\",\"#19d3f3\",\"#FF6692\",\"#B6E880\",\"#FF97FF\",\"#FECB52\"],\"font\":{\"color\":\"#2a3f5f\"},\"hovermode\":\"closest\",\"hoverlabel\":{\"align\":\"left\"},\"paper_bgcolor\":\"white\",\"plot_bgcolor\":\"#E5ECF6\",\"polar\":{\"bgcolor\":\"#E5ECF6\",\"angularaxis\":{\"gridcolor\":\"white\",\"linecolor\":\"white\",\"ticks\":\"\"},\"radialaxis\":{\"gridcolor\":\"white\",\"linecolor\":\"white\",\"ticks\":\"\"}},\"ternary\":{\"bgcolor\":\"#E5ECF6\",\"aaxis\":{\"gridcolor\":\"white\",\"linecolor\":\"white\",\"ticks\":\"\"},\"baxis\":{\"gridcolor\":\"white\",\"linecolor\":\"white\",\"ticks\":\"\"},\"caxis\":{\"gridcolor\":\"white\",\"linecolor\":\"white\",\"ticks\":\"\"}},\"coloraxis\":{\"colorbar\":{\"outlinewidth\":0,\"ticks\":\"\"}},\"colorscale\":{\"sequential\":[[0.0,\"#0d0887\"],[0.1111111111111111,\"#46039f\"],[0.2222222222222222,\"#7201a8\"],[0.3333333333333333,\"#9c179e\"],[0.4444444444444444,\"#bd3786\"],[0.5555555555555556,\"#d8576b\"],[0.6666666666666666,\"#ed7953\"],[0.7777777777777778,\"#fb9f3a\"],[0.8888888888888888,\"#fdca26\"],[1.0,\"#f0f921\"]],\"sequentialminus\":[[0.0,\"#0d0887\"],[0.1111111111111111,\"#46039f\"],[0.2222222222222222,\"#7201a8\"],[0.3333333333333333,\"#9c179e\"],[0.4444444444444444,\"#bd3786\"],[0.5555555555555556,\"#d8576b\"],[0.6666666666666666,\"#ed7953\"],[0.7777777777777778,\"#fb9f3a\"],[0.8888888888888888,\"#fdca26\"],[1.0,\"#f0f921\"]],\"diverging\":[[0,\"#8e0152\"],[0.1,\"#c51b7d\"],[0.2,\"#de77ae\"],[0.3,\"#f1b6da\"],[0.4,\"#fde0ef\"],[0.5,\"#f7f7f7\"],[0.6,\"#e6f5d0\"],[0.7,\"#b8e186\"],[0.8,\"#7fbc41\"],[0.9,\"#4d9221\"],[1,\"#276419\"]]},\"xaxis\":{\"gridcolor\":\"white\",\"linecolor\":\"white\",\"ticks\":\"\",\"title\":{\"standoff\":15},\"zerolinecolor\":\"white\",\"automargin\":true,\"zerolinewidth\":2},\"yaxis\":{\"gridcolor\":\"white\",\"linecolor\":\"white\",\"ticks\":\"\",\"title\":{\"standoff\":15},\"zerolinecolor\":\"white\",\"automargin\":true,\"zerolinewidth\":2},\"scene\":{\"xaxis\":{\"backgroundcolor\":\"#E5ECF6\",\"gridcolor\":\"white\",\"linecolor\":\"white\",\"showbackground\":true,\"ticks\":\"\",\"zerolinecolor\":\"white\",\"gridwidth\":2},\"yaxis\":{\"backgroundcolor\":\"#E5ECF6\",\"gridcolor\":\"white\",\"linecolor\":\"white\",\"showbackground\":true,\"ticks\":\"\",\"zerolinecolor\":\"white\",\"gridwidth\":2},\"zaxis\":{\"backgroundcolor\":\"#E5ECF6\",\"gridcolor\":\"white\",\"linecolor\":\"white\",\"showbackground\":true,\"ticks\":\"\",\"zerolinecolor\":\"white\",\"gridwidth\":2}},\"shapedefaults\":{\"line\":{\"color\":\"#2a3f5f\"}},\"annotationdefaults\":{\"arrowcolor\":\"#2a3f5f\",\"arrowhead\":0,\"arrowwidth\":1},\"geo\":{\"bgcolor\":\"white\",\"landcolor\":\"#E5ECF6\",\"subunitcolor\":\"white\",\"showland\":true,\"showlakes\":true,\"lakecolor\":\"white\"},\"title\":{\"x\":0.05},\"mapbox\":{\"style\":\"light\"}}},\"xaxis\":{\"anchor\":\"y\",\"domain\":[0.0,1.0],\"title\":{\"text\":\"Average Total Funding (USD)\"}},\"yaxis\":{\"anchor\":\"x\",\"domain\":[0.0,1.0],\"title\":{\"text\":\"Industry\"}},\"legend\":{\"tracegroupgap\":0},\"title\":{\"text\":\"Average Total funding(USD) per Industry\"},\"barmode\":\"relative\"},                        {\"responsive\": true}                    ).then(function(){\n",
              "                            \n",
              "var gd = document.getElementById('8c2ed967-f23a-4907-8517-39bde58061d8');\n",
              "var x = new MutationObserver(function (mutations, observer) {{\n",
              "        var display = window.getComputedStyle(gd).display;\n",
              "        if (!display || display === 'none') {{\n",
              "            console.log([gd, 'removed!']);\n",
              "            Plotly.purge(gd);\n",
              "            observer.disconnect();\n",
              "        }}\n",
              "}});\n",
              "\n",
              "// Listen for the removal of the full notebook cells\n",
              "var notebookContainer = gd.closest('#notebook-container');\n",
              "if (notebookContainer) {{\n",
              "    x.observe(notebookContainer, {childList: true});\n",
              "}}\n",
              "\n",
              "// Listen for the clearing of the current output cell\n",
              "var outputEl = gd.closest('.output');\n",
              "if (outputEl) {{\n",
              "    x.observe(outputEl, {childList: true});\n",
              "}}\n",
              "\n",
              "                        })                };                            </script>        </div>\n",
              "</body>\n",
              "</html>"
            ]
          },
          "metadata": {}
        }
      ]
    },
    {
      "cell_type": "code",
      "source": [
        "# Plot scatter mapbox\n",
        "fig = px.scatter_mapbox(df3,\n",
        "                        lat=\"latitude\",\n",
        "                        lon=\"longitude\",\n",
        "                        hover_name=\"name\",\n",
        "                        color=\"status\",\n",
        "                        zoom=2.7)\n",
        "\n",
        "\n",
        "fig.update_layout(mapbox_style=\"open-street-map\")\n",
        "fig.update_layout(margin={\"r\":0,\"t\":0,\"l\":0,\"b\":0})\n",
        "\n",
        "fig.write_image(\"DistributionofVCEntities.png\")\n",
        "fig.show()"
      ],
      "metadata": {
        "colab": {
          "base_uri": "https://localhost:8080/",
          "height": 542
        },
        "id": "dz6B1xa0Dh3p",
        "outputId": "d379ff26-7ca8-4cb5-d7cb-b112f5a58cdf"
      },
      "execution_count": null,
      "outputs": [
        {
          "output_type": "display_data",
          "data": {
            "text/html": [
              "<html>\n",
              "<head><meta charset=\"utf-8\" /></head>\n",
              "<body>\n",
              "    <div>            <script src=\"https://cdnjs.cloudflare.com/ajax/libs/mathjax/2.7.5/MathJax.js?config=TeX-AMS-MML_SVG\"></script><script type=\"text/javascript\">if (window.MathJax && window.MathJax.Hub && window.MathJax.Hub.Config) {window.MathJax.Hub.Config({SVG: {font: \"STIX-Web\"}});}</script>                <script type=\"text/javascript\">window.PlotlyConfig = {MathJaxConfig: 'local'};</script>\n",
              "        <script charset=\"utf-8\" src=\"https://cdn.plot.ly/plotly-2.24.1.min.js\"></script>                <div id=\"30ed67f7-fa1a-4480-9840-665c4c4ce78a\" class=\"plotly-graph-div\" style=\"height:525px; width:100%;\"></div>            <script type=\"text/javascript\">                                    window.PLOTLYENV=window.PLOTLYENV || {};                                    if (document.getElementById(\"30ed67f7-fa1a-4480-9840-665c4c4ce78a\")) {                    Plotly.newPlot(                        \"30ed67f7-fa1a-4480-9840-665c4c4ce78a\",                        [{\"hovertemplate\":\"\\u003cb\\u003e%{hovertext}\\u003c\\u002fb\\u003e\\u003cbr\\u003e\\u003cbr\\u003estatus=acquired\\u003cbr\\u003elatitude=%{lat}\\u003cbr\\u003elongitude=%{lon}\\u003cextra\\u003e\\u003c\\u002fextra\\u003e\",\"hovertext\":[\"Bandsintown\",\"TriCipher\",\"Plixi\",\"Solidcore Systems\",\"RingCube Technologies\",\"ClairMail\",\"VoodooVox\",\"Doostang\",\"Zong\",\"drop.io\",\"Stratavia\",\"MeeVee\",\"SinglePlatform\",\"Metreos Corporation\",\"BridgePort Networks\",\"Scalent Systems\",\"IQ Engines\",\"RetailMeNot, Inc.\",\"Mophie\",\"Lockdown Networks\",\"Karma\",\"Fotomoto\",\"Peer39\",\"Vitrue\",\"Trendslide\",\"Azaleos\",\"Efficient Frontier\",\"NetDevices\",\"Go Try It On\",\"Performable\",\"Appstores.com\",\"Fortify Software\",\"iCurrent\",\"AisleBuyer\",\"Indeed\",\"Colubris Networks\",\"Mashery\",\"Viewdle\",\"Enclarity\",\"Virsto Software\",\"Handmark\",\"SchemaLogic\",\"CardStar\",\"Makani Power\",\"Intela\",\"Sana Security\",\"Sportgenic\",\"Lolapps\",\"Behavio\",\"Infinity Box\",\"adBrite\",\"Instagram\",\"Motionbox\",\"MoPub\",\"Trovix\",\"Thumbplay\",\"DailyStrength\",\"SNAPin Software\",\"Azuro\",\"BookFresh\",\"Singly\",\"TxVia\",\"Open Kernel Labs\",\"Astrid\",\"Hubspan\",\"iConclude\",\"41st Parameter\",\"Aardvark\",\"Anystream\",\"Fluther\",\"Goodreads\",\"Woven Systems\",\"Krugle\",\"Chomp\",\"Inlet Technologies\",\"ShopWiki\",\"Fondu\",\"TwoFish\",\"Qwiki\",\"Redwood Systems\",\"Artisan Pharma\",\"Bill Me Later\",\"Silicon Clocks\",\"TheMarkets\",\"Sentrigo\",\"Netli\",\"Firethorn\",\"Taligen Therapeutics\",\"Adap.tv\",\"ParAccel\",\"Arch Rock Corporation\",\"Plusmo\",\"ZipList\",\"Involver\",\"Lionside\",\"Game Trust\",\"Nearbuy Systems\",\"Visible Path\",\"HipLogic\",\"Yobongo\",\"Brickfish\",\"MyEnergy\",\"Pure Networks\",\"Provade\",\"Challenge Games\",\"Crowd Factory\",\"Vizibility\",\"OpenFeint\",\"Tumblr\",\"Crashlytics\",\"BridgePoint Medical\",\"Recurve\",\"ShopRunner\",\"Gowalla\",\"Copan Systems\",\"Replay Solutions\",\"Cartavi\",\"Cramster\",\"Certify Data Systems\",\"Wheelz\",\"CentrePath\",\"VoxPop Network Corporation\",\"Metaweb Technologies\",\"DocVerse\",\"Veoh\",\"BzzAgent\",\"GuardianEdge Technologies\",\"Gradient X\",\"Boomi\",\"Flixster\",\"NeoEdge Networks\",\"Camiant\",\"NuConomy\",\"Flowtown\",\"Teranetics\",\"GoodGuide\",\"ViVu\",\"avVenta\",\"DiJiPOP\",\"Layer 7 Technologies\",\"MAP Pharmaceuticals\",\"ORCA, Inc.\",\"Amobee\",\"KOTURA\",\"Outright\",\"Phurnace Software\",\"FastSoft\",\"GrandCentral\",\"BlueLithium\",\"Giant Realm\",\"Invite Media\",\"LocaModa\",\"Meraki\",\"Haute Secure\",\"Intelliworks\",\"Meridian\",\"Kluster\",\"Jingle Networks\",\"SemEquip\",\"mSnap\",\"Ardian\",\"Tracelytics\",\"Kyte\",\"Ounce Labs\",\"Crossbeam Systems\",\"Immunet Corporation\",\"CopperEgg Corporation\",\"Wink\",\"PopularMedia\",\"Miyowa\",\"Dashwire\",\"Reddit\",\"Pure Digital Technologies\",\"Voxify\",\"Visual Revenue\",\"Calibra Medical\",\"HiWired\",\"Hyperic\",\"Optimal\",\"BlockBeacon\",\"PostPath\",\"TokBox\",\"Heartscape\",\"Vlingo\",\"Tizor Systems\",\"Blip\",\"Fabkids\",\"Avaak\",\"Savored\",\"Digg\",\"Songza\",\"Bigfoot Networks\",\"Kongregate\",\"Powerset\",\"Kiptronic\",\"Likewise Software\",\"Jaxtr\",\"MX Logic\",\"Metaplace\",\"TravelMuse\",\"Jambool\",\"Zipcar\",\"Hitpost\",\"Home-Account\",\"imeem\",\"Cast Iron Systems\",\"RentJuice\",\"Parascale\",\"Geni\",\"Outside.in\",\"Salesforce Buddy Media\",\"Vizu Corporation\",\"Zing Systems\",\"DynamicOps\",\"Movero Technology\",\"Elevation Pharmaceuticals\",\"EdgeCast Networks\",\"Sirific Wireless\",\"ZoomSafer\",\"AkaRx\",\"Buysight\",\"TripIt\",\"Pinch Media\",\"Enstratius\",\"Jumptap\",\"WiChorus\",\"Hatteras Networks\",\"easy2comply (Dynasec)\",\"Socialize\",\"Clearwire\",\"CREDANT Technologies\",\"Exclusively.in\",\"Avidia\",\"PayDivvy\",\"KickApps\",\"Airwide Solutions\",\"Localocracy\",\"Pixable\",\"mFoundry\",\"Livemocha\",\"IronPort Systems\",\"Crowdcast\",\"Where\",\"Pictela\",\"Grouply\",\"Storify\",\"Axiom Microdevices\",\"ShoeDazzle\",\"LiftDNA\",\"Onavo\",\"Guardium\",\"Compete\",\"Rollstream\",\"NeoGuide Systems\",\"Accept Software\",\"Milo\",\"Mimosa Systems\",\"Surphace\",\"Cloudmeter\",\"Zecter\",\"Dimdim\",\"Cloverleaf Communications\",\"SkyPilot Networks\",\"Zencoder\",\"The Huffington Post\",\"Exaprotect\",\"Akorri Networks\",\"BlackLocus\",\"FeedBurner\",\"DailyBurn\",\"CastTV\",\"Venmo\",\"SenSage\",\"Luminus Devices\",\"BestVendor\",\"ColdSpark\",\"CrowdCompass\",\"Right Media\",\"Goby\",\"FiveRuns\",\"TrenStar\",\"Dispatch\",\"HauteLook\",\"Sponge\",\"Genesis Networks\",\"Mogad\",\"Meebo\",\"Accertify\",\"N2N Commerce\",\"StreamBase Systems\",\"Provigent\",\"Navic Networks\",\"Integrien\",\"Persystent Technologies\",\"WireImage\",\"Encentuate\",\"Consorte Media\",\"RightsFlow\",\"thePlatform\",\"Docstoc\",\"Zenprise\",\"Vontu\",\"Emergent Game Technologies\",\"threadsy\",\"Kiva Systems\",\"Krillion\",\"Brightkite\",\"Peanut Labs\",\"FlipKey\",\"AppTrigger\",\"Footnote\",\"Kapow Software\",\"Locately\",\"TrustedID\",\"Ciclon Semiconductor Device Corporation\",\"Vudu\",\"Plaxo\",\"YouTube\",\"Avid Radiopharmaceuticals\",\"ExactTarget\",\"Rhythmia Medical\",\"MyMiniLife\",\"Adept Cloud\",\"MeetMe, Inc.\",\"WildBlue\",\"Mr. Youth\",\"Teknovus\",\"Qik\",\"EQAL\",\"Socialthing\",\"Next New Networks\",\"AdECN\",\"Sensory Networks\",\"Flock\",\"AdMob\",\"FeeFighters\",\"WeHostels\",\"TimeBridge\",\"Loyalty Lab\",\"RentStuff.com\",\"ZManda\",\"Jumo\",\"sezmi\",\"StudioNow\",\"PicApp\",\"Composite Software\",\"Terracotta\",\"Generate\",\"Attributor\",\"Greenplum Software\",\"PlaySpan\",\"JackBe\",\"Zimbra\",\"Mu Dynamics\",\"Fulcrum Microsystems\",\"ReTel Technologies\",\"NexGen Storage\",\"WAY Systems\",\"Intelliden\",\"Forrst\",\"XGraph\",\"Playdom\",\"Digital Reef\",\"Servio\",\"Vocalocity\",\"Dapper\",\"oneforty\",\"SkillSlate\",\"AwesomeTouch\",\"Syncplicity\",\"Aveksa\",\"Beceem Communications\",\"Trust Digital\",\"Sabrix\",\"Panther Express\",\"BlueNote Networks\",\"BreakingPoint Systems\",\"OptiMedica\",\"Metatomix\",\"Neterion\",\"Schooner Information Technology\",\"Quidsi\",\"Netcordia\",\"Yammer\",\"Clever Sense\",\"AlterPoint\",\"Ribbit\",\"StorSimple\",\"NationalField\",\"Sadra Medical\",\"expressor software\",\"NSFW Corporation\",\"Quigo\",\"Navini Networks\",\"VirtualLogix\",\"SezWho\",\"Jobs2Web\",\"MerchantCircle\",\"Kace networks\",\"Zinch\",\"Cloud.com\",\"Wildfire, a division of Google\",\"BioSeek\",\"Coradiant\",\"QuantaLife\",\"BroadLight\",\"BBE\",\"Mobius Microsystems\",\"Boonty\",\"Luminary Micro\",\"Clicker\",\"SocialShield\",\"Storwize\",\"Loopt\",\"Blue Lane Technologies\",\"Socialcast\",\"Collective Intellect\",\"Wavii\",\"Seesmic\",\"Echopass Corporation\",\"ID Analytics\",\"Vela Systems\",\"FlowCardia\",\"Bizanga\",\"Transpond\",\"Foldrx Pharmaceuticals\",\"MetaCarta\",\"Viridity Software\",\"Bebo\",\"SideTour\",\"SARcode Bioscience\",\"Lore\",\"Pelago\",\"Desk\",\"Virtual Computer\",\"Quattro Wireless\",\"ShopWell\",\"Nexx Systems\",\"5min Media\",\"Gotuit\",\"TeleCIS Wireless\",\"Snapette\",\"MakerBot\",\"Image Space Media\",\"Wanderfly\",\"Cassatt\",\"VirtuOz\",\"Nimbula\",\"Giftiki\",\"SpaBooker\",\"Jajah\",\"Baxano\",\"Prenova\",\"WooMe\",\"ONStor\",\"Summize\",\"JouleX\",\"MapMyFitness\",\"FetchBack\",\"Sermo\",\"Alnara Pharmaceuticals\",\"Braintree\",\"Virident Systems\",\"Pearl Therapeutics\",\"Lexity\",\"Diligent Technologies\",\"Smilebox\",\"B-hive Networks\",\"Hot Potato\",\"LaunchGram\",\"ServiceMesh\",\"Lookery\",\"Zep Solar\",\"MOG\",\"Oyster.com\",\"LogLogic\",\"SnapNames\",\"Simple Star\",\"StyleFeeder\",\"FlashSoft\",\"Symwave\",\"Clearwell Systems\",\"CubeTree\",\"Infochimps\",\"SimpleGeo\",\"1000memories\",\"SensorLogic\",\"TouristEye\",\"Oberon Media\",\"Arroyo Video Solutions\",\"Aragon Pharmaceuticals\",\"#waywire\",\"Feedtrace\",\"Allurent\",\"Quantivo\",\"Crossing Automation\",\"Scrapblog\",\"Yield Software\",\"Off & Away\",\"Nexsan\",\"Producteev\",\"Amalfi Semiconductor\",\"iChange\",\"AppFog\",\"HotPads\",\"Right90\",\"SocialMedia.com\",\"BuyWithMe\",\"Photobucket\",\"XtremIO\",\"Level 5 Networks\",\"Votizen\",\"Siimpel Corporation\",\"Napera Networks\",\"Tercica\",\"PasswordBank\",\"SnapTell\",\"CloudShield Technologies\",\"Instinctiv\",\"Anchor Bay Technologies\",\"Waze\",\"Aster Data Systems\",\"Codesion\",\"Xoopit\",\"One Block Off the Grid (1BOG)\",\"Appature\",\"Action Engine\",\"Blackwave\",\"SoftLayer\",\"Mytopia\",\"BARRX Medical\",\"StartupDigest\",\"Cohuman\",\"Redwood Systems\",\"OtherInbox\",\"M-Factor\",\"Servo Software\",\"EdgeSpring\",\"about.me\",\"Republic Project\",\"Thinkfuse\",\"EchoSign\",\"PI Corporation\",\"Daylife\",\"Desktone\",\"Pulse\",\"Standing Cloud\",\"Where I've Been\",\"HipChat\",\"ScaleIO\",\"GroupMe\",\"LifeSize, a Division of Logitech\",\"CHiL Semiconductor\",\"Aptana\",\"Enpirion\",\"ecoATM\",\"Adura Technologies\",\"Rhythm NewMedia\",\"Topsy Labs\",\"Silver Tail Systems\",\"Tatara Systems\",\"Reliant Technologies\",\"Atrua Technologies\",\"Casabi\",\"Bluefin Labs\",\"GoPollGo\",\"Multigig\",\"Ortiva Wireless\",\"Sometrics\",\"Kima Labs\",\"Whiskey Media\",\"Jobfox\",\"Gaikai\",\"Max-Viz\",\"Cotendo\",\"Particle Code\",\"Behance\",\"Locu\",\"dynaTrace software\",\"Socialbomb\",\"Imagine Communications\",\"Univa UD\",\"OneRiot\",\"ArcSight\",\"AGEIA Technologies\",\"Xelerated\",\"Oodle\",\"The Climate Corporation\",\"Kosmix\",\"Xtify Inc.\",\"iSkoot\",\"Panvidea\",\"TRAFFIQ\",\"Dexterra\",\"CoTweet\",\"Causata\",\"Asempra Technologies\"],\"lat\":[42.35888,37.238916,32.901049,37.320309,37.3915589,38.057107,42.712207,37.427235,37.4429885,40.70276,39.74627279999999,37.590339,40.730646,30.2350399,41.875555,37.429676,37.870102,30.2653441,33.708708,47.603832,37.779281,37.7795014,40.755446,33.756806,42.99564,47.63609,37.4049731,37.36883,40.730646,42.3751,37.779281,37.560781,37.658313,42.360253,30.321464,42.37564,37.7870842,37.445586,33.5842816,37.402773,39.103151,47.675489,42.360253,37.7831775,40.730646,37.54763,37.790485,37.7870923,37.3492097,28.098905,37.779026,37.779281,40.606061,37.779281,37.420428,40.725435,34.043948,47.614018,37.406217,37.779281,37.779281,40.753881,41.878984,37.779281,39.78373,47.614422,37.314002,37.748676,39.035298,37.758062,34.01052,37.3821368,37.45604,37.779281,35.76524000000001,40.740441,40.750519,37.522281,40.729839,37.54827,42.37564,39.436844,37.554214,40.762674,37.55911,37.440682,33.749099,42.3634664,37.551441,37.31665260000001,37.783171,37.400367,39.001619,37.788653,37.779281,40.73901,37.548418700000006,37.55818,37.5541073,37.7824533,41.8851542,42.360253,47.60732,37.560155,30.268236,37.758229,40.730646,37.5783263,40.743808,42.3751,45.006515,37.777741,40.0708709,30.2729209,40.138979,37.512318,41.800255,34.147047,37.317847,37.779281,42.37564,37.8093381,37.775196,37.78811500000001,32.902266,42.341899,37.778613,34.019657,40.063476,37.76690900000001,37.393679,42.345927,37.795191,37.779281,37.404788,37.7983181,37.320309,40.730646,51.43247,38.897976,39.78373,40.745003,37.52845,34.045919,37.287285,30.271393,34.142973,37.465645,37.32052,40.7566658,39.951311,42.358822,37.392443,47.638456,39.116333,45.520247,40.723652,37.480999,42.5656454,39.750152,37.406914,51.43247,37.788482,42.393662,42.496515,37.424298,30.280148,37.40047,37.767575,37.779281,47.603832,37.780883,37.779281,37.789429,40.750519,37.484347,42.2960173,37.4027811,37.779281,34.019657,37.390501,37.779507,39.2328783,42.372912,42.432106,40.728425,37.779281,32.897274,40.73901,37.764726,40.74731129999999,37.536402,37.786942,37.778613,37.792394,47.582658,37.451026,39.540323,33.020832,37.402802,37.782101,33.7862629,37.78227879999999,37.778551,37.779624,37.4305755,37.779281,37.316653,34.090368,40.70438220000001,40.756054,37.797435,37.388077,42.504817,30.409765000000004,32.962655,34.049767,32.945353999999995,38.969532,40.944543,37.425359,37.764169,40.757929,44.9773,42.368633,37.40909600000001,35.996653,40.730646,38.88521,30.6324797,32.960431,40.750519,37.406914,33.685697,40.75166110000001,42.504817,42.360253,40.730646,37.862592,47.6399006,37.626166,37.779281,42.360253,40.756054,37.502742,37.779281,33.685697,34.019657,40.74929,37.424298,42.37564,42.346743,38.872668,37.404788,37.386778,37.444531,37.37968400000001,37.809782,37.388869,37.384756,42.6161515,40.825655,37.381876,37.779281,40.729839,37.419347,42.537592,30.2702703,41.889474,40.73901,37.780716,40.750519,37.785655,42.528635,40.728425,39.937989,45.520247,40.74632,42.360253,30.280148,39.616435,40.729839,34.054935,37.779281,40.730646,37.763652,37.393679,42.048203,37.09024,42.447318,37.381341,42.375518,33.685697,28.0385347,40.730646,37.573045,37.762185,40.73901,47.617838,34.018275,37.484347,37.779281,34.154942600000005,37.775206,42.492256,37.391727,39.762314,37.7915,42.354023,32.997114,40.3310529,37.426316,42.360253,37.520592,40.60157589999999,37.354469,37.387845,37.627971,39.952399,39.7672093,42.504817,37.437328,37.538352,40.364273,39.6478,40.729839,38.232583,37.486368,34.172904,40.0186731,40.743808,34.394343,37.430025,37.491356,37.563585,41.879535,40.730646,37.391642,37.779281,36.16223,37.3725243,40.728425,37.524422,36.13996,37.79402,37.538352,37.7710177,34.031328,37.453687,37.552262,37.396312,38.963492,37.557637,37.390233,34.1411985,41.78942,39.977763,42.479262,37.4587657,37.288326,40.730646,37.393536,42.493447,37.779281,33.7812614,37.7766184,42.36401400000001,40.750519,38.046407,37.814202,42.3988661,37.352313,38.919954,45.413842,40.73901,42.645342,30.384453000000004,37.3777985,42.241765,37.320309,37.477037,40.728158,38.97864000000001,37.776246,37.406914,30.354768,37.386665,37.386778,38.894955,37.2615879,42.48510200000001,36.170538,40.907974,32.997114,37.409147,37.351894,44.912723,37.391642,37.417002,40.234451,37.320309,37.445667,37.658313,42.4717204,39.78373,37.404044,40.7445343,37.377787,40.717248,30.306591,34.083228000000005,37.626166,37.237937,37.384717,37.3169065,37.78192670000001,40.0186313,47.603832,37.775196,37.661002,32.7154,42.504817,37.396023,37.537542,37.782978,42.3751,42.36236,42.4871509,37.782103,40.745064,37.680766,40.730646,47.60706500000001,37.779281,42.579258,42.3729,37.441537,42.558426,40.757929,42.479262,37.288326,40.730646,40.650104,42.712207,40.650104,37.336191,37.782714,37.3965713,37.779281,40.738567,37.4233896,37.404788,33.982966999999995,37.779281,37.2690782,39.050108,33.749099,30.280148,33.426418,42.364367,42.3624253,37.78505300000001,37.421692,37.502169,37.388869,42.276316,47.676378,37.536402,40.650104,37.388869,34.019657,37.788266,38.021489,37.872222,40.74188770000001,37.4155698,45.520247,37.77522800000001,42.3751,37.36883,33.55327800000001,37.398022,37.487259,30.2734822,37.779281,37.779281,32.958634,37.388869,40.730646,37.662431,39.78373,40.730646,40.729839,42.3751,37.5455355,37.431091,25.752358,37.558245,39.78373,34.185043,40.775309,37.229676,34.144926,39.78373,38.904549,37.571318,37.775196,40.730646,47.601803,37.320309,37.36883,37.388869,34.1086325,47.578174,37.674559,37.36883,37.433414,37.409618,40.73901,37.2496346,37.441537,37.5068854,37.441537,37.76179550000001,37.79287100000001,39.78373,47.631239,42.49739,33.017317,34.007967,37.36883,47.603832,37.779281,37.4815098,30.269004,37.555962,37.552262,37.566009,37.755068,33.615663399999995,47.603832,37.445326,47.602416,40.643438,42.599814,37.779281,40.011355,41.916619,37.779281,37.441537,40.730646,30.265927,33.916552,37.5568425,40.707045,32.901049,37.779281,39.78373,37.775196,37.428087700000006,42.485093,37.400115,37.2624049,37.293687,42.3751,37.4210225,35.966068,32.833501,34.048857,37.78699829999999,40.730646,38.92719,33.570171,45.520247,37.504764,37.445586,40.74406,42.3751,42.391389,40.730646,32.9388917,41.808458,40.01621,37.31679000000001,37.354469,59.3352318,37.563585,37.782809,37.3867729,40.729839,37.780134,40.750519,40.7429533,47.802184,37.7405936,37.556732,37.386778],\"legendgroup\":\"acquired\",\"lon\":[-71.05682,-121.973718,-117.192656,-122.05004,-122.0702643,-122.513742,-73.203599,-122.145783,-122.1624131,-73.98666800000002,-104.9911572,-122.341715,-73.986614,-97.80012990000002,-87.624421,-122.1085482,-122.268136,-97.7435857,-117.852069,-122.330062,-122.419236,-122.3948712,-73.980246,-84.392198,-71.454789,-122.327028,-122.0323525,-122.03635,-73.986614,-71.105616,-122.419236,-122.284114,-122.391032,-71.058291,-97.75501,-71.2358,-122.4038047,-122.161929,-117.7306817,-122.052551,-94.581908,-122.191667,-71.058291,-122.3086191,-73.986614,-122.307887,-122.40094,-122.3999719,-122.0326019,-82.400087,-122.40184,-122.419236,-73.822331,-122.419236,-122.090769,-73.997395,-118.468204,-122.19655,-121.976473,-122.419236,-122.419236,-73.978852,-87.637,-122.419236,-100.445882,-122.192337,-121.932365,-122.415813,-77.430125,-122.418642,-118.495981,-121.970505,-122.165399,-122.419236,-78.731161,-73.993376,-73.993494,-122.258139,-73.991781,-121.988572,-71.2358,-76.61870400000002,-121.977451,-73.9821315,-122.303493,-122.123103,-84.390185,-71.07866379999999,-122.291435,-122.05074,-122.392901,-121.985711,-77.403201,-122.401333,-122.419236,-73.997259,-122.3151646,-122.276454,-121.9756765,-122.3879489,-87.62231829999998,-71.058291,-122.335746,-122.285588,-97.740651,-122.439512,-73.986614,-122.3485679,-73.983626,-71.105616,-93.46651,-122.412198,-75.302716,-97.7443863,-105.124465,-122.20091399999998,-88.149362,-118.148896,-121.948469,-122.419236,-71.2358,-122.4166061,-122.419204,-122.397141,-117.20834,-71.065924,-122.395289,-118.487549,-75.457492,-122.406676,-122.079017,-71.55228699999998,-122.430411,-122.419236,-121.940842,-122.4000032,-122.05004,-73.986614,-2.664213,-77.028561,-100.445882,-73.98322900000002,-122.263721,-118.16525,-121.942932,-97.748623,-118.140553,-121.932202,-121.948399,-73.9827553,-75.169522,-71.104329,-122.072517,-122.356965,-77.18130699999998,-122.674195,-73.985281,-122.173887,-71.3222696,-104.99643799999998,-122.09037,-2.664213,-122.409173,-71.25585500000003,-71.480233,-122.139809,-97.749908,-122.072981,-122.411157,-122.419236,-122.330062,-122.395257,-122.419236,-122.276524,-73.993494,-122.225803,-71.2128734,-122.1441615,-122.419236,-118.487549,-122.081151,-122.39071,-76.8204666,-71.118999,-71.453968,-73.999882,-122.419236,-117.201076,-73.997259,-122.394523,-73.95491820000002,-122.325129,-122.401245,-122.395289,-122.402349,-122.135282,-122.18676,-104.857271,-117.077311,-122.117418,-122.389519,-84.3877936,-122.392978,-122.391686,-122.391236,-122.0971389,-122.419236,-122.05074,-118.393064,-73.98657170000001,-73.986951,-122.403175,-122.08316,-71.195611,-97.75101,-117.189656,-118.459387,-96.708874,-77.385948,-74.075419,-122.1389633,-122.402021,-73.985506,-93.265469,-71.075305,-121.94319099999998,-78.90180500000002,-73.986614,-76.998641,-86.9843446,-96.83026,-73.993494,-122.09037,-117.825982,-73.9843328,-71.195611,-71.058291,-73.986614,-122.493561,-122.1914274,-122.411025,-122.419236,-71.058291,-73.986951,-122.211281,-122.419236,-117.825982,-118.487549,-73.981328,-122.139809,-71.2358,-71.07663199999998,-77.367981,-121.940842,-121.966277,-122.163352,-121.97514,-122.417306,-122.072353,-122.087712,-71.3258687,-73.46762199999998,-121.95993,-122.419236,-73.991781,-122.089639,-71.51201,-97.742204,-87.628912,-73.997259,-122.39391299999998,-73.993494,-122.398393,-71.27802199999998,-73.999882,-105.058729,-122.674195,-73.982607,-71.058291,-97.749908,-104.879925,-73.991781,-118.244476,-122.419236,-73.986614,-122.421778,-122.079017,-88.03156899999998,-95.712891,-71.2245,-121.977065,-71.27229200000002,-117.825982,-82.5068513,-73.986614,-122.2823,-122.467269,-73.997259,-122.356027,-118.495025,-122.225803,-122.419236,-118.6545471,-122.419209,-71.13454899999998,-122.077597,-104.982256,-122.40045,-71.05809599999998,-96.676137,-111.7276347,-122.141082,-71.058291,-122.255907,-75.3611135,-121.990433,-122.055197,-122.426804,-75.16359,-86.1580785,-71.195611,-122.159928,-122.299665,-74.951278,-104.9875,-73.991781,-122.636465,-122.230116,-118.37403700000002,-105.2762236,-73.983626,-119.51231,-122.09998,-122.228843,-122.324621,-87.624333,-73.986614,-122.09393500000002,-122.419236,-86.774353,-122.035963,-73.999882,-122.265869,-86.796377,-122.4031242,-122.299665,-122.4025976,-118.471463,-122.228595,-122.292146,-121.961396,-77.091025,-122.28571399999998,-122.033741,-118.7040908,-87.596232,-105.13193,-71.152277,-122.1725191,-121.945633,-73.986614,-122.076747,-71.514104,-122.419236,-84.36756170000002,-122.3938931,-71.101375,-73.993494,-84.497039,-122.477959,-71.253781,-121.967982,-77.21249300000002,-122.725662,-73.997259,-71.23454699999998,-97.709809,-121.9744545,-71.166164,-122.05004,-122.15164,-74.077642,-76.492786,-122.4179223,-122.09037,-97.798152,-122.084171,-121.966277,-77.03664599999998,-121.9578487,-71.211568,-115.101942,-73.84179,-96.676137,-122.01546299999998,-122.085807,-93.499059,-122.09393500000002,-122.07871000000002,-111.658656,-122.05004,-122.166911,-122.391032,-71.26214350000002,-100.445882,-121.978956,-73.98740079999997,-122.029217,-74.002662,-97.826727,-118.341449,-122.411025,-121.974591,-122.081625,-122.0497023,-122.3932389,-105.2764361,-122.330062,-122.419204,-121.897829,-117.1565,-71.195611,-122.03311,-122.327609,-122.394517,-71.105616,-71.099692,-71.1986329,-122.401116,-73.992637,-122.399971,-73.986614,-122.335373,-122.419236,-71.437841,-71.24847199999998,-122.158332,-71.268947,-73.985506,-71.152277,-121.945633,-73.986614,-73.94958199999998,-73.203599,-73.94958199999998,-121.890583,-122.39358,-122.0836937,-122.419236,-73.987199,-122.08995120000002,-121.940842,-84.346041,-122.419236,-121.9559995,-77.40082,-84.390185,-97.749908,-111.9396,-71.078978,-71.116031,-122.287295,-121.894156,-122.217727,-122.072353,-71.419229,-122.122155,-122.325129,-73.94958199999998,-122.072353,-118.487549,-122.403865,-122.519998,-122.268403,-74.00474659999998,-121.9486567,-122.674195,-122.39963,-71.105616,-122.03635,-117.6779,-122.049143,-122.232217,-97.7588828,-122.419236,-122.419236,-96.823641,-122.072353,-73.986614,-121.874679,-100.445882,-73.986614,-73.991781,-71.105616,-122.32088020000002,-122.099263,-80.25468000000002,-122.302654,-100.445882,-118.878852,-73.98365600000002,-121.971225,-118.149767,-100.445882,-77.061767,-122.267962,-122.419204,-73.986614,-122.332085,-122.05004,-122.03635,-122.072353,-118.0215818,-122.212731,-122.385658,-122.03635,-122.128772,-122.017792,-73.997259,-121.9665932,-122.158332,-122.2475729,-122.158332,-122.4092704,-122.400747,-100.445882,-122.16806,-71.416794,-96.837682,-118.489681,-122.03635,-122.330062,-122.419236,-121.9453283,-97.740395,-122.288006,-122.292146,-122.321646,-122.418026,-111.8931647,-122.330062,-122.160671,-122.332614,-73.886452,-71.367284,-122.419236,-105.274166,-87.686634,-122.419236,-122.158332,-73.986614,-97.783642,-118.397491,-122.2884881,-74.95600300000002,-117.192656,-122.419236,-100.445882,-122.419204,-122.143368,-71.43284,-122.052208,-121.95770520000002,-121.934573,-71.105616,-122.1377411,-115.118671,-117.26162,-118.251343,-122.400893,-73.986614,-77.21696899999998,-117.710676,-122.674195,-122.259568,-122.161929,-74.004592,-71.105616,-71.270987,-73.986614,-117.2398594,-88.073008,-105.28131,-122.05079,-121.990433,18.0571206,-122.324621,-122.394354,-122.07522240000002,-73.991781,-122.396744,-73.993494,-73.98446109999998,-122.196307,-122.3764714,-122.288378,-121.966277],\"marker\":{\"color\":\"#636efa\"},\"mode\":\"markers\",\"name\":\"acquired\",\"showlegend\":true,\"subplot\":\"mapbox\",\"type\":\"scattermapbox\"},{\"hovertemplate\":\"\\u003cb\\u003e%{hovertext}\\u003c\\u002fb\\u003e\\u003cbr\\u003e\\u003cbr\\u003estatus=closed\\u003cbr\\u003elatitude=%{lat}\\u003cbr\\u003elongitude=%{lon}\\u003cextra\\u003e\\u003c\\u002fextra\\u003e\",\"hovertext\":[\"Inhale Digital\",\"Matisse Networks\",\"Center'd\",\"Resonant Vibes\",\"Invicta Networks\",\"QSecure\",\"Bling Nation\",\"Hidden City Games\",\"Neopolitan Networks\",\"Pixelpipe\",\"EventVue\",\"Airship Ventures\",\"eMinor\",\"Zipano\",\"Entertainment Media Works\",\"Elastra\",\"RPO\",\"PublicEarth\",\"Transparency Software\",\"Viacor\",\"Carbonetworks\",\"Skyway Software\",\"Myrio\",\"Texert\",\"Mendocino Software\",\"QuikCycle\",\"AccelGolf\",\"DNP Green Technology\",\"Abound Solar\",\"Plethora Technology\",\"Danotek Motion Technologies\",\"Yub\",\"ARPU\",\"Blue Vector Systems\",\"Elanti Systems\",\"Nordic Windpower\",\"Visiprise\",\"Hotelicopter\",\"CakeStyle\",\"Pocket Communications Northeast\",\"Kolorific\",\"Flud\",\"Origen Therapeutics\",\"Loudcaster\",\"Workstreamer\",\"Bueda\",\"Defywire\",\"Netgamix Inc\",\"Define My Style\",\"Wellcore\",\"Current Media\",\"SpiralFrog\",\"VT Silicon\",\"GetBack\",\"Slipstream\",\"Dilithium Networks\",\"LikeList\",\"Social Collective\",\"Internet Pawn\",\"NeuroTherapeutics Pharma\",\"Infineta Systems\",\"Friendsignia\",\"Hotlist\",\"Conformity\",\"Moprise\",\"Plizy\",\"RatePoint\",\"Digital Performance\",\"Turf Geography Club\",\"skyrockit\",\"OpVista\",\"Hammerhead Systems\",\"ThermalTherapeuticSystems\",\"ezzai - how to arabia\",\"rPath\",\"VoloMedia\",\"Wesabe\",\"OfferLounge\",\"SemiSouth Laboratories\",\"GlobalCrypto\",\"Bioenvision\",\"WebVisible\",\"DeliveryEdge\",\"Solmentum\",\"Pipewise\",\"GridNetworks\",\"Auvitek International\",\"Speedshape\",\"Media Chaperone\",\"UpMo\",\"Appscio\",\"Eons\",\"MPOWER Mobile\",\"International Battery\",\"ItsGoinOn\",\"Biofisica\",\"Canopy Financial\",\"PacketHop\",\"Inaura\",\"DynaPump\",\"Intrusic\",\"EvoApp\",\"Offermatic\",\"DateMyFamily.com\",\"SendMeHome.com\",\"Q-magic\",\"Geodelic Systems\",\"Attune Systems\",\"Avega Systems\",\"PeerMe\",\"Pacinian\",\"neoSaej\",\"Kiha Software\",\"Cerona Networks\",\"Oorja Protonics\",\"Hurricane Party\",\"Minekey\",\"CafeBots\",\"Newfield Design\",\"Cozi Group\",\"Lifestander\",\"PayParade Pictures\",\"Planet Metrics\",\"kwiry\",\"Amadesa\",\"Aptera\",\"Verari Systems\",\"Zentact\",\"Punch Entertainment\",\"Stickybits\",\"Ecast\",\"lifeIO\",\"Revetto\",\"Lama Lab\",\"Focus\",\"Octavian\",\"Bevvy\",\"Pyxis Mobile\",\"Link_A_Media Devices\",\"Trooval\",\"TeleFlip\",\"MessageGate\",\"Storm Exchange\",\"Giiv\",\"MyShape\",\"WeShow\",\"Tapioca Mobile\",\"Local Marketers\",\"Eyeona\",\"Etology\",\"Wander (f. YongoPal)\",\"GeekStatus\",\"MOLI\",\"World Blender\",\"Zymetis\",\"Semantra\",\"Inertia Beverage Group\",\"Generic Media\",\"Hello Chair\",\"Triples Media\",\"TwtBks\",\"Picateers\",\"NextIO\",\"Sonar.me\",\"StyleZen\",\"Transactiv\",\"nprogress\",\"NextMedium\",\"iosil Energy\",\"Kurani Interactive\",\"Azingo\",\"ITOG, Inc.\",\"Sharetivity\",\"Hashable\",\"MyNines\",\"itzbig\",\"Loosecubes\",\"Contur\",\"Factery\",\"HeadCase Humanufacturing\",\"bluepulse\",\"IonLogix Systems\",\"Atrica\",\"Cuil\",\"Lazarus Therapeutics\",\"Sionex\",\"Million Dollar Earth\",\"FireStar Software\",\"Aquest Systems\",\"Faves\",\"D2C Games\",\"Smith & Tinker\",\"Roxro Pharma\",\"Color Labs Inc.\",\"Advaliant\",\"SeeSaw Networks\",\"Smalltown\",\"Skyrider\",\"Fortisphere\",\"PlayerDuel\",\"PANTA Systems\",\"T-Networks\",\"Predictify\",\"Swaptree Inc.\",\"Nalace Corporation\",\"spotdock\",\"SearchMe\",\"Shocking Technologies\",\"Tripl\",\"Azaire Networks\",\"Weatherista\",\"Exit41\",\"HighlightCam\",\"Helicomm\",\"Thwapr\",\"Authenticlick\",\"Idooble\",\"xkoto\",\"TelASIC Communications\",\"LegiTime Technologies\",\"B-Side Entertainment\",\"Taggstr\",\"Fashism\",\"Goodmail Systems\",\"Nirvanix\",\"LookStat\",\"Sweepery\",\"ZettaCore\",\"iKoa\",\"LeisureLogix\",\"AutoVirt\",\"Apnex Medical\",\"MobileReactor\",\"Caterva\",\"Innovative Silicon\",\"Kardia Health Systems\",\"Biolex Therapeutics\",\"Klir Technologies\",\"Devtap\",\"Trinity Biosystems\",\"Oasys Mobile\",\"Gamook\",\"NewsBasis\",\"MyCabbage\",\"EmSense\",\"walkby\",\"FameCast\",\"SolFocus\",\"Storspeed\",\"RipCode\",\"VeteranCentral.com\",\"RippleFunction\",\"CV Ingenuity\",\"AdexLink\",\"Certeon\",\"Applied Identity\",\"HelpMeRent.com\",\"Mail.com Media Corporation\",\"DubMeNow\",\"Smooth-Stone\",\"Relationship Analytics\",\"Etelos\",\"Make It Work\",\"What They Like\",\"Wi-Chi\",\"eBillme\",\"Kashless\",\"Three Screen Games\",\"BrightQube\",\"Wantful\",\"Help Me Rent Magazine\",\"Loud3r\",\"StyleTrek\",\"Sequoia Communications\",\"TrustDegrees\",\"Impeva\",\"Nettle\",\"Songbird\",\"Five Star Technologies\",\"Vontoo\",\"FlyCast\",\"CypherMax\",\"Tipping Bucket\",\"Qlusters\",\"SpinTheCam\",\"Dormzy\",\"Sampa\",\"DanceJam\",\"TalkPlus\",\"NebuAd\",\"Robotgalaxy\",\"Gigi Hill\",\"Diversion\",\"JackPot Rewards\",\"Andigilog\",\"Power Analog Microelectronics\",\"Classiphix\",\"WiLinx\",\"Correlix\",\"Athena Design Systems\",\"Levanta\",\"DotSpots\",\"Hit Systems\",\"Yamisee\",\"MoveableCode, Inc.\",\"Opzi\",\"WeAre.Us\",\"Kickfire\",\"RFinity\",\"Digit Wireless\",\"Peek & Co\",\"C2 Microsystems\",\"Chronicity\",\"Natural Cleaners Colorado\",\"Blue Buzz Network\",\"Flowgram\",\"JavaJobs\",\"Tutorspree\",\"Moonshoot\",\"U.S. Fiduciary\",\"Broadway Networks\",\"Limerick BioPharma\",\"Rudder\",\"Sway\",\"Reef Point Systems\",\"Paracor Medical\"],\"lat\":[37.779281,37.406914,37.452992,38.241467,38.901301,37.39628270000001,37.446411,47.6026054,37.426316,37.764395,40.010492,37.422859,36.002893,40.441694,40.73901,37.791137,37.404788,40.01573320000001,37.441537,42.546483,37.805289,27.951849,47.765758,32.9583632,37.54827,37.354469,42.3751,40.349274,40.397761,39.388156,42.350749,37.388869,37.09024,37.406914,40.535316,37.863464,34.070958000000005,38.030823,39.78373,41.85361500000001,37.433646,32.721834,37.584103000000006,42.387597,40.694599,40.441694,38.958402,41.875555,39.099909,37.404788,37.77951820000001,37.09024,33.774486,34.03423370000001,37.835676,38.279431,37.36883,38.881717,39.568064,41.940611,37.404788,35.149021999999995,40.730646,30.35504,39.78373,37.779281,42.296111,33.63776,40.728425,37.779281,37.43841079999999,37.40006,40.418851,41.817807,35.79181,37.382376,37.793148,26.0524615,30.435079,33.776834,40.730646,33.97279,37.781689,37.779281,37.787249,47.602873,33.068275,42.548008,41.875555,37.406914,36.9397206,42.375219,30.280148,40.602206,34.054935,34.062588,37.791388,37.534538,40.767013,30.161661,42.504817,35.986906,37.566009,26.106273,34.430786,37.448944,34.005914000000004,37.386778,37.391642,37.419819,47.657943,42.485691,39.78373,39.414219,37.54827,30.280148,37.384239,37.424298,43.643967,39.78373,40.73901,40.012771,37.628328,37.7885714,42.055849,33.133524,32.901049,37.794891,37.4233698,40.729839,37.779281,40.730646,42.8138649,40.441694,37.793949,42.479262,34.098242,42.37564,37.354469,35.96544,34.01695,47.614422,40.730646,34.054935,34.141876,40.752516,32.88945,47.59896810000001,37.222698,37.561111,37.391642,34.066697,54.983201,47.603832,38.988766,32.969251,38.223032,37.441537,37.779281,40.730646,37.7611016,40.787878000000006,30.409765000000004,40.750519,39.099909,39.099909,34.054935,34.054935,35.084103000000006,40.347054,37.382162,38.703764,37.550954,40.730646,40.74929,30.387275,40.650104,34.050451,37.4484914,34.054935,37.563905,31.5682893,37.386778,37.451124,39.959721,42.49173,47.184901,42.493447,37.390956,47.603327,37.496904,47.5827803,37.459177,37.441537,40.743662,37.791564,37.566123,37.406914,38.87804000000001,37.424298,37.386778,40.602206,37.48657100000001,42.358956,33.956215,40.730646,37.386665,37.261986,40.729839,37.386778,37.779281,42.6555302,37.4063024,32.901049,40.730646,34.062504,45.630695,42.405685,33.923916,44.671539,40.7434025,37.288136,40.7394115,37.39972,32.877656,47.6447802,37.779281,39.5604863,39.78373,28.032975,42.7370219,44.950404,39.952399,40.116421,37.386778,44.96659,35.72591770000001,47.603832,39.78373,39.78373,35.780398,37.41924,37.779281,41.875555,37.779281,41.8969173,30.268735,37.39873720000001,30.271129,32.959908,38.894955,42.37564,37.54827,37.288326,42.504817,37.779281,34.102827000000005,34.054935,38.916336,30.409765000000004,40.477604,37.54841500000001,34.491118,37.7776778,45.3774456,41.019264,47.6257402,40.245664,33.09568,37.779281,34.102827000000005,34.147645000000004,40.728425,32.988246999999994,42.961748,37.400945,32.833501,37.787126,41.505161,39.914281,40.03935300000001,37.3969138,40.233844,37.416597,40.759089,39.96226,47.682233,37.781557,37.553743,39.78373,40.737216,33.87751,34.050451,42.337037,33.414414,37.3767076,41.678675,33.158093,40.707645,37.354469,37.551882,33.831671,28.66677,39.364504,41.818712,37.779281,37.7611016,37.381876,43.493525,42.504817,40.73901,37.404788,32.960431,39.6350086,37.779281,37.7710177,34.748528,40.7908157,37.440682,29.758938,37.336191,37.658713,29.739322,43.090756,42.504817,37.408261],\"legendgroup\":\"closed\",\"lon\":[-122.419236,-122.09037,-122.185098,-85.72451099999998,-77.265158,-122.105531,-122.16054,-122.2848651,-122.141082,-122.401024,-105.276843,-122.045217,-78.904075,-79.990086,-73.997259,-122.391843,-121.940842,-105.275027,-122.158332,-71.17366700000002,-122.404448,-82.456397,-122.184304,-96.8215658,-121.988572,-121.990433,-71.105616,-74.659296,-105.07498,-77.885552,-83.44458900000002,-122.072353,-95.712891,-122.09037,-74.521435,-122.3153453,-84.274733,-78.48158000000002,-100.445882,-72.70375,-121.886704,-117.161797,-122.366082,-71.099497,-73.990638,-79.990086,-77.357974,-87.624421,-84.504243,-121.940842,-122.3902619,-95.712891,-84.385448,-118.4536137,-122.263548,-122.668452,-122.03635,-77.089398,-104.977831,-87.835972,-121.940842,-90.05162800000002,-73.986614,-97.801083,-100.445882,-122.419236,-71.238524,-117.855989,-73.999882,-122.419236,-121.9240273,-122.049689,-79.904163,-88.173402,-78.74123,-122.037607,-122.402567,-80.1378809,-97.770139,-84.3895875,-73.986614,-118.427578,-122.391061,-122.419236,-122.3990501,-122.336132,-96.711101,-83.214753,-87.624421,-122.09037,-121.7768449,-71.056101,-97.749908,-75.47127900000002,-118.244476,-84.16923,-122.392148,-122.252466,-111.890431,-95.471256,-71.195611,-78.896718,-122.321646,-80.41894,-119.715074,-122.161415,-118.488129,-121.966277,-122.09393500000002,-122.09018799999998,-117.421226,-71.19861999999998,-100.445882,-77.410927,-121.988572,-97.749908,-122.012475,-122.139809,-70.923675,-100.445882,-73.997259,-75.239234,-122.420814,-122.40359850000002,-87.694664,-117.254593,-117.192656,-122.397901,-122.09868590000002,-73.991781,-122.419236,-73.986614,-86.02384599999998,-79.990086,-122.398062,-71.152277,-118.35697,-71.2358,-121.990433,-115.106579,-118.451933,-122.192337,-73.986614,-118.244476,-118.132377,-73.973072,-117.166929,-122.33290359999998,-121.979887,-122.27048700000002,-122.09393500000002,-118.383367,-1.574631,-122.330062,-76.940952,-96.823778,-122.261642,-122.158332,-122.419236,-73.986614,-122.4160008,-74.388207,-97.75101,-73.993494,-84.504243,-84.504243,-118.244476,-118.244476,-106.650985,-74.064306,-122.036301,-90.443832,-122.315396,-73.986614,-73.981328,-97.759511,-73.94958199999998,-118.437775,-122.1802812,-118.244476,-122.324688,-97.1973664,-121.966277,-122.16626399999998,-75.605964,-71.28179499999997,-122.292141,-71.514104,-122.032795,-122.334983,-122.333057,-122.1548103,-122.173907,-122.158332,-73.984268,-122.399981,-122.323045,-122.09037,-77.436151,-122.139809,-121.966277,-75.47127900000002,-122.229161,-71.054776,-83.987962,-73.986614,-122.084171,-121.784279,-73.991781,-121.966277,-122.419236,-71.1455618,-122.1088743,-117.192656,-73.986614,-118.354605,-122.674456,-71.25585699999998,-118.39665,-70.144101,-73.9890857,-121.79765,-73.9895748,-122.108306,-117.210595,-122.325878,-122.419236,-104.8656251,-100.445882,-82.64611,-71.48729759999998,-93.101503,-75.16359,-88.243383,-121.966277,-93.331943,-79.17917709999998,-122.330062,-100.445882,-100.445882,-78.639099,-122.208414,-122.419236,-87.624421,-122.419236,-87.6435474,-97.745209,-122.0497918,-97.743699,-96.70737,-77.03664599999998,-71.2358,-121.988572,-121.945633,-71.195611,-122.419236,-118.32999,-118.244476,-77.230488,-97.75101,-74.626824,-122.315636,-119.808096,-122.3921102,-122.7569561,-73.683462,-122.3581623,-74.845997,-117.244034,-122.419236,-118.32999,-118.144478,-73.999882,-117.080769,-78.870914,-122.111318,-117.26162,-122.39783,-81.693445,-86.07647800000002,-76.307448,-121.8939054,-111.658534,-122.154064,-73.987573,-83.00070600000002,-122.135521,-122.407959,-122.300246,-100.445882,-73.99094699999998,-117.727046,-118.437775,-71.25174799999998,-111.909447,-121.997483,-83.51272800000002,-117.350597,-74.010816,-121.990433,-122.313472,-118.315766,-81.392794,-84.247556,-71.411775,-122.419236,-122.4160008,-121.95993,-112.040092,-71.195611,-73.997259,-121.940842,-96.83026,-106.5213459,-122.419236,-122.4025976,-92.287158,-73.9722939,-122.123103,-95.367697,-121.890583,-122.399382,-95.444747,-89.522805,-71.195611,-122.01592],\"marker\":{\"color\":\"#EF553B\"},\"mode\":\"markers\",\"name\":\"closed\",\"showlegend\":true,\"subplot\":\"mapbox\",\"type\":\"scattermapbox\"}],                        {\"template\":{\"data\":{\"histogram2dcontour\":[{\"type\":\"histogram2dcontour\",\"colorbar\":{\"outlinewidth\":0,\"ticks\":\"\"},\"colorscale\":[[0.0,\"#0d0887\"],[0.1111111111111111,\"#46039f\"],[0.2222222222222222,\"#7201a8\"],[0.3333333333333333,\"#9c179e\"],[0.4444444444444444,\"#bd3786\"],[0.5555555555555556,\"#d8576b\"],[0.6666666666666666,\"#ed7953\"],[0.7777777777777778,\"#fb9f3a\"],[0.8888888888888888,\"#fdca26\"],[1.0,\"#f0f921\"]]}],\"choropleth\":[{\"type\":\"choropleth\",\"colorbar\":{\"outlinewidth\":0,\"ticks\":\"\"}}],\"histogram2d\":[{\"type\":\"histogram2d\",\"colorbar\":{\"outlinewidth\":0,\"ticks\":\"\"},\"colorscale\":[[0.0,\"#0d0887\"],[0.1111111111111111,\"#46039f\"],[0.2222222222222222,\"#7201a8\"],[0.3333333333333333,\"#9c179e\"],[0.4444444444444444,\"#bd3786\"],[0.5555555555555556,\"#d8576b\"],[0.6666666666666666,\"#ed7953\"],[0.7777777777777778,\"#fb9f3a\"],[0.8888888888888888,\"#fdca26\"],[1.0,\"#f0f921\"]]}],\"heatmap\":[{\"type\":\"heatmap\",\"colorbar\":{\"outlinewidth\":0,\"ticks\":\"\"},\"colorscale\":[[0.0,\"#0d0887\"],[0.1111111111111111,\"#46039f\"],[0.2222222222222222,\"#7201a8\"],[0.3333333333333333,\"#9c179e\"],[0.4444444444444444,\"#bd3786\"],[0.5555555555555556,\"#d8576b\"],[0.6666666666666666,\"#ed7953\"],[0.7777777777777778,\"#fb9f3a\"],[0.8888888888888888,\"#fdca26\"],[1.0,\"#f0f921\"]]}],\"heatmapgl\":[{\"type\":\"heatmapgl\",\"colorbar\":{\"outlinewidth\":0,\"ticks\":\"\"},\"colorscale\":[[0.0,\"#0d0887\"],[0.1111111111111111,\"#46039f\"],[0.2222222222222222,\"#7201a8\"],[0.3333333333333333,\"#9c179e\"],[0.4444444444444444,\"#bd3786\"],[0.5555555555555556,\"#d8576b\"],[0.6666666666666666,\"#ed7953\"],[0.7777777777777778,\"#fb9f3a\"],[0.8888888888888888,\"#fdca26\"],[1.0,\"#f0f921\"]]}],\"contourcarpet\":[{\"type\":\"contourcarpet\",\"colorbar\":{\"outlinewidth\":0,\"ticks\":\"\"}}],\"contour\":[{\"type\":\"contour\",\"colorbar\":{\"outlinewidth\":0,\"ticks\":\"\"},\"colorscale\":[[0.0,\"#0d0887\"],[0.1111111111111111,\"#46039f\"],[0.2222222222222222,\"#7201a8\"],[0.3333333333333333,\"#9c179e\"],[0.4444444444444444,\"#bd3786\"],[0.5555555555555556,\"#d8576b\"],[0.6666666666666666,\"#ed7953\"],[0.7777777777777778,\"#fb9f3a\"],[0.8888888888888888,\"#fdca26\"],[1.0,\"#f0f921\"]]}],\"surface\":[{\"type\":\"surface\",\"colorbar\":{\"outlinewidth\":0,\"ticks\":\"\"},\"colorscale\":[[0.0,\"#0d0887\"],[0.1111111111111111,\"#46039f\"],[0.2222222222222222,\"#7201a8\"],[0.3333333333333333,\"#9c179e\"],[0.4444444444444444,\"#bd3786\"],[0.5555555555555556,\"#d8576b\"],[0.6666666666666666,\"#ed7953\"],[0.7777777777777778,\"#fb9f3a\"],[0.8888888888888888,\"#fdca26\"],[1.0,\"#f0f921\"]]}],\"mesh3d\":[{\"type\":\"mesh3d\",\"colorbar\":{\"outlinewidth\":0,\"ticks\":\"\"}}],\"scatter\":[{\"fillpattern\":{\"fillmode\":\"overlay\",\"size\":10,\"solidity\":0.2},\"type\":\"scatter\"}],\"parcoords\":[{\"type\":\"parcoords\",\"line\":{\"colorbar\":{\"outlinewidth\":0,\"ticks\":\"\"}}}],\"scatterpolargl\":[{\"type\":\"scatterpolargl\",\"marker\":{\"colorbar\":{\"outlinewidth\":0,\"ticks\":\"\"}}}],\"bar\":[{\"error_x\":{\"color\":\"#2a3f5f\"},\"error_y\":{\"color\":\"#2a3f5f\"},\"marker\":{\"line\":{\"color\":\"#E5ECF6\",\"width\":0.5},\"pattern\":{\"fillmode\":\"overlay\",\"size\":10,\"solidity\":0.2}},\"type\":\"bar\"}],\"scattergeo\":[{\"type\":\"scattergeo\",\"marker\":{\"colorbar\":{\"outlinewidth\":0,\"ticks\":\"\"}}}],\"scatterpolar\":[{\"type\":\"scatterpolar\",\"marker\":{\"colorbar\":{\"outlinewidth\":0,\"ticks\":\"\"}}}],\"histogram\":[{\"marker\":{\"pattern\":{\"fillmode\":\"overlay\",\"size\":10,\"solidity\":0.2}},\"type\":\"histogram\"}],\"scattergl\":[{\"type\":\"scattergl\",\"marker\":{\"colorbar\":{\"outlinewidth\":0,\"ticks\":\"\"}}}],\"scatter3d\":[{\"type\":\"scatter3d\",\"line\":{\"colorbar\":{\"outlinewidth\":0,\"ticks\":\"\"}},\"marker\":{\"colorbar\":{\"outlinewidth\":0,\"ticks\":\"\"}}}],\"scattermapbox\":[{\"type\":\"scattermapbox\",\"marker\":{\"colorbar\":{\"outlinewidth\":0,\"ticks\":\"\"}}}],\"scatterternary\":[{\"type\":\"scatterternary\",\"marker\":{\"colorbar\":{\"outlinewidth\":0,\"ticks\":\"\"}}}],\"scattercarpet\":[{\"type\":\"scattercarpet\",\"marker\":{\"colorbar\":{\"outlinewidth\":0,\"ticks\":\"\"}}}],\"carpet\":[{\"aaxis\":{\"endlinecolor\":\"#2a3f5f\",\"gridcolor\":\"white\",\"linecolor\":\"white\",\"minorgridcolor\":\"white\",\"startlinecolor\":\"#2a3f5f\"},\"baxis\":{\"endlinecolor\":\"#2a3f5f\",\"gridcolor\":\"white\",\"linecolor\":\"white\",\"minorgridcolor\":\"white\",\"startlinecolor\":\"#2a3f5f\"},\"type\":\"carpet\"}],\"table\":[{\"cells\":{\"fill\":{\"color\":\"#EBF0F8\"},\"line\":{\"color\":\"white\"}},\"header\":{\"fill\":{\"color\":\"#C8D4E3\"},\"line\":{\"color\":\"white\"}},\"type\":\"table\"}],\"barpolar\":[{\"marker\":{\"line\":{\"color\":\"#E5ECF6\",\"width\":0.5},\"pattern\":{\"fillmode\":\"overlay\",\"size\":10,\"solidity\":0.2}},\"type\":\"barpolar\"}],\"pie\":[{\"automargin\":true,\"type\":\"pie\"}]},\"layout\":{\"autotypenumbers\":\"strict\",\"colorway\":[\"#636efa\",\"#EF553B\",\"#00cc96\",\"#ab63fa\",\"#FFA15A\",\"#19d3f3\",\"#FF6692\",\"#B6E880\",\"#FF97FF\",\"#FECB52\"],\"font\":{\"color\":\"#2a3f5f\"},\"hovermode\":\"closest\",\"hoverlabel\":{\"align\":\"left\"},\"paper_bgcolor\":\"white\",\"plot_bgcolor\":\"#E5ECF6\",\"polar\":{\"bgcolor\":\"#E5ECF6\",\"angularaxis\":{\"gridcolor\":\"white\",\"linecolor\":\"white\",\"ticks\":\"\"},\"radialaxis\":{\"gridcolor\":\"white\",\"linecolor\":\"white\",\"ticks\":\"\"}},\"ternary\":{\"bgcolor\":\"#E5ECF6\",\"aaxis\":{\"gridcolor\":\"white\",\"linecolor\":\"white\",\"ticks\":\"\"},\"baxis\":{\"gridcolor\":\"white\",\"linecolor\":\"white\",\"ticks\":\"\"},\"caxis\":{\"gridcolor\":\"white\",\"linecolor\":\"white\",\"ticks\":\"\"}},\"coloraxis\":{\"colorbar\":{\"outlinewidth\":0,\"ticks\":\"\"}},\"colorscale\":{\"sequential\":[[0.0,\"#0d0887\"],[0.1111111111111111,\"#46039f\"],[0.2222222222222222,\"#7201a8\"],[0.3333333333333333,\"#9c179e\"],[0.4444444444444444,\"#bd3786\"],[0.5555555555555556,\"#d8576b\"],[0.6666666666666666,\"#ed7953\"],[0.7777777777777778,\"#fb9f3a\"],[0.8888888888888888,\"#fdca26\"],[1.0,\"#f0f921\"]],\"sequentialminus\":[[0.0,\"#0d0887\"],[0.1111111111111111,\"#46039f\"],[0.2222222222222222,\"#7201a8\"],[0.3333333333333333,\"#9c179e\"],[0.4444444444444444,\"#bd3786\"],[0.5555555555555556,\"#d8576b\"],[0.6666666666666666,\"#ed7953\"],[0.7777777777777778,\"#fb9f3a\"],[0.8888888888888888,\"#fdca26\"],[1.0,\"#f0f921\"]],\"diverging\":[[0,\"#8e0152\"],[0.1,\"#c51b7d\"],[0.2,\"#de77ae\"],[0.3,\"#f1b6da\"],[0.4,\"#fde0ef\"],[0.5,\"#f7f7f7\"],[0.6,\"#e6f5d0\"],[0.7,\"#b8e186\"],[0.8,\"#7fbc41\"],[0.9,\"#4d9221\"],[1,\"#276419\"]]},\"xaxis\":{\"gridcolor\":\"white\",\"linecolor\":\"white\",\"ticks\":\"\",\"title\":{\"standoff\":15},\"zerolinecolor\":\"white\",\"automargin\":true,\"zerolinewidth\":2},\"yaxis\":{\"gridcolor\":\"white\",\"linecolor\":\"white\",\"ticks\":\"\",\"title\":{\"standoff\":15},\"zerolinecolor\":\"white\",\"automargin\":true,\"zerolinewidth\":2},\"scene\":{\"xaxis\":{\"backgroundcolor\":\"#E5ECF6\",\"gridcolor\":\"white\",\"linecolor\":\"white\",\"showbackground\":true,\"ticks\":\"\",\"zerolinecolor\":\"white\",\"gridwidth\":2},\"yaxis\":{\"backgroundcolor\":\"#E5ECF6\",\"gridcolor\":\"white\",\"linecolor\":\"white\",\"showbackground\":true,\"ticks\":\"\",\"zerolinecolor\":\"white\",\"gridwidth\":2},\"zaxis\":{\"backgroundcolor\":\"#E5ECF6\",\"gridcolor\":\"white\",\"linecolor\":\"white\",\"showbackground\":true,\"ticks\":\"\",\"zerolinecolor\":\"white\",\"gridwidth\":2}},\"shapedefaults\":{\"line\":{\"color\":\"#2a3f5f\"}},\"annotationdefaults\":{\"arrowcolor\":\"#2a3f5f\",\"arrowhead\":0,\"arrowwidth\":1},\"geo\":{\"bgcolor\":\"white\",\"landcolor\":\"#E5ECF6\",\"subunitcolor\":\"white\",\"showland\":true,\"showlakes\":true,\"lakecolor\":\"white\"},\"title\":{\"x\":0.05},\"mapbox\":{\"style\":\"light\"}}},\"mapbox\":{\"domain\":{\"x\":[0.0,1.0],\"y\":[0.0,1.0]},\"center\":{\"lat\":38.517442088190684,\"lon\":-103.53921224312026},\"zoom\":2.7,\"style\":\"open-street-map\"},\"legend\":{\"title\":{\"text\":\"status\"},\"tracegroupgap\":0},\"margin\":{\"t\":0,\"r\":0,\"l\":0,\"b\":0}},                        {\"responsive\": true}                    ).then(function(){\n",
              "                            \n",
              "var gd = document.getElementById('30ed67f7-fa1a-4480-9840-665c4c4ce78a');\n",
              "var x = new MutationObserver(function (mutations, observer) {{\n",
              "        var display = window.getComputedStyle(gd).display;\n",
              "        if (!display || display === 'none') {{\n",
              "            console.log([gd, 'removed!']);\n",
              "            Plotly.purge(gd);\n",
              "            observer.disconnect();\n",
              "        }}\n",
              "}});\n",
              "\n",
              "// Listen for the removal of the full notebook cells\n",
              "var notebookContainer = gd.closest('#notebook-container');\n",
              "if (notebookContainer) {{\n",
              "    x.observe(notebookContainer, {childList: true});\n",
              "}}\n",
              "\n",
              "// Listen for the clearing of the current output cell\n",
              "var outputEl = gd.closest('.output');\n",
              "if (outputEl) {{\n",
              "    x.observe(outputEl, {childList: true});\n",
              "}}\n",
              "\n",
              "                        })                };                            </script>        </div>\n",
              "</body>\n",
              "</html>"
            ]
          },
          "metadata": {}
        }
      ]
    },
    {
      "cell_type": "code",
      "source": [
        "# Cities that receive the most funding\n",
        "\n",
        "mostFunded = df3.groupby('city')['funding_total_usd'].mean().sort_values().tail(10)\n",
        "mostFunded"
      ],
      "metadata": {
        "id": "ZnMkBqCq918W",
        "colab": {
          "base_uri": "https://localhost:8080/"
        },
        "outputId": "41005259-e7dd-465f-a9f9-8267c18b8f20"
      },
      "execution_count": null,
      "outputs": [
        {
          "output_type": "execute_result",
          "data": {
            "text/plain": [
              "city\n",
              "Brisbane        7.800000e+07\n",
              "Jersey City     7.850000e+07\n",
              "Belmont         7.857365e+07\n",
              "Petaluma        8.038500e+07\n",
              "Timonium        1.000000e+08\n",
              "Indianapolis    1.202010e+08\n",
              "Bloomfield      1.250000e+08\n",
              "Pittsboro       1.622641e+08\n",
              "Loveland        5.100000e+08\n",
              "Kirkland        2.859457e+09\n",
              "Name: funding_total_usd, dtype: float64"
            ]
          },
          "metadata": {},
          "execution_count": 25
        }
      ]
    },
    {
      "cell_type": "code",
      "source": [
        "fig = px.bar(\n",
        "    x=mostFunded,\n",
        "    y=mostFunded.index,\n",
        "    orientation='h',\n",
        "    title='Cities with Top Average Total funding(USD)'\n",
        ")\n",
        "\n",
        "fig.update_layout(xaxis_title='Average Total Funding (USD)', yaxis_title='City')\n",
        "fig.write_image(\"CitieswithMostFunding.png\")\n",
        "fig.show()"
      ],
      "metadata": {
        "colab": {
          "base_uri": "https://localhost:8080/",
          "height": 542
        },
        "id": "EtrVyDjtYQQk",
        "outputId": "5bfc2f52-810e-4332-b803-ae5bfa5d2587"
      },
      "execution_count": null,
      "outputs": [
        {
          "output_type": "display_data",
          "data": {
            "text/html": [
              "<html>\n",
              "<head><meta charset=\"utf-8\" /></head>\n",
              "<body>\n",
              "    <div>            <script src=\"https://cdnjs.cloudflare.com/ajax/libs/mathjax/2.7.5/MathJax.js?config=TeX-AMS-MML_SVG\"></script><script type=\"text/javascript\">if (window.MathJax && window.MathJax.Hub && window.MathJax.Hub.Config) {window.MathJax.Hub.Config({SVG: {font: \"STIX-Web\"}});}</script>                <script type=\"text/javascript\">window.PlotlyConfig = {MathJaxConfig: 'local'};</script>\n",
              "        <script charset=\"utf-8\" src=\"https://cdn.plot.ly/plotly-2.24.1.min.js\"></script>                <div id=\"30be99f8-cf0b-4cd8-aee2-b5dfb1eb2958\" class=\"plotly-graph-div\" style=\"height:525px; width:100%;\"></div>            <script type=\"text/javascript\">                                    window.PLOTLYENV=window.PLOTLYENV || {};                                    if (document.getElementById(\"30be99f8-cf0b-4cd8-aee2-b5dfb1eb2958\")) {                    Plotly.newPlot(                        \"30be99f8-cf0b-4cd8-aee2-b5dfb1eb2958\",                        [{\"alignmentgroup\":\"True\",\"hovertemplate\":\"x=%{x}\\u003cbr\\u003ey=%{y}\\u003cextra\\u003e\\u003c\\u002fextra\\u003e\",\"legendgroup\":\"\",\"marker\":{\"color\":\"#636efa\",\"pattern\":{\"shape\":\"\"}},\"name\":\"\",\"offsetgroup\":\"\",\"orientation\":\"h\",\"showlegend\":false,\"textposition\":\"auto\",\"x\":[78000000.0,78500000.0,78573646.0,80385000.0,100000000.0,120200999.5,125000000.0,162264126.0,510000000.0,2859457288.0],\"xaxis\":\"x\",\"y\":[\"Brisbane\",\"Jersey City\",\"Belmont\",\"Petaluma\",\"Timonium\",\"Indianapolis\",\"Bloomfield\",\"Pittsboro\",\"Loveland\",\"Kirkland\"],\"yaxis\":\"y\",\"type\":\"bar\"}],                        {\"template\":{\"data\":{\"histogram2dcontour\":[{\"type\":\"histogram2dcontour\",\"colorbar\":{\"outlinewidth\":0,\"ticks\":\"\"},\"colorscale\":[[0.0,\"#0d0887\"],[0.1111111111111111,\"#46039f\"],[0.2222222222222222,\"#7201a8\"],[0.3333333333333333,\"#9c179e\"],[0.4444444444444444,\"#bd3786\"],[0.5555555555555556,\"#d8576b\"],[0.6666666666666666,\"#ed7953\"],[0.7777777777777778,\"#fb9f3a\"],[0.8888888888888888,\"#fdca26\"],[1.0,\"#f0f921\"]]}],\"choropleth\":[{\"type\":\"choropleth\",\"colorbar\":{\"outlinewidth\":0,\"ticks\":\"\"}}],\"histogram2d\":[{\"type\":\"histogram2d\",\"colorbar\":{\"outlinewidth\":0,\"ticks\":\"\"},\"colorscale\":[[0.0,\"#0d0887\"],[0.1111111111111111,\"#46039f\"],[0.2222222222222222,\"#7201a8\"],[0.3333333333333333,\"#9c179e\"],[0.4444444444444444,\"#bd3786\"],[0.5555555555555556,\"#d8576b\"],[0.6666666666666666,\"#ed7953\"],[0.7777777777777778,\"#fb9f3a\"],[0.8888888888888888,\"#fdca26\"],[1.0,\"#f0f921\"]]}],\"heatmap\":[{\"type\":\"heatmap\",\"colorbar\":{\"outlinewidth\":0,\"ticks\":\"\"},\"colorscale\":[[0.0,\"#0d0887\"],[0.1111111111111111,\"#46039f\"],[0.2222222222222222,\"#7201a8\"],[0.3333333333333333,\"#9c179e\"],[0.4444444444444444,\"#bd3786\"],[0.5555555555555556,\"#d8576b\"],[0.6666666666666666,\"#ed7953\"],[0.7777777777777778,\"#fb9f3a\"],[0.8888888888888888,\"#fdca26\"],[1.0,\"#f0f921\"]]}],\"heatmapgl\":[{\"type\":\"heatmapgl\",\"colorbar\":{\"outlinewidth\":0,\"ticks\":\"\"},\"colorscale\":[[0.0,\"#0d0887\"],[0.1111111111111111,\"#46039f\"],[0.2222222222222222,\"#7201a8\"],[0.3333333333333333,\"#9c179e\"],[0.4444444444444444,\"#bd3786\"],[0.5555555555555556,\"#d8576b\"],[0.6666666666666666,\"#ed7953\"],[0.7777777777777778,\"#fb9f3a\"],[0.8888888888888888,\"#fdca26\"],[1.0,\"#f0f921\"]]}],\"contourcarpet\":[{\"type\":\"contourcarpet\",\"colorbar\":{\"outlinewidth\":0,\"ticks\":\"\"}}],\"contour\":[{\"type\":\"contour\",\"colorbar\":{\"outlinewidth\":0,\"ticks\":\"\"},\"colorscale\":[[0.0,\"#0d0887\"],[0.1111111111111111,\"#46039f\"],[0.2222222222222222,\"#7201a8\"],[0.3333333333333333,\"#9c179e\"],[0.4444444444444444,\"#bd3786\"],[0.5555555555555556,\"#d8576b\"],[0.6666666666666666,\"#ed7953\"],[0.7777777777777778,\"#fb9f3a\"],[0.8888888888888888,\"#fdca26\"],[1.0,\"#f0f921\"]]}],\"surface\":[{\"type\":\"surface\",\"colorbar\":{\"outlinewidth\":0,\"ticks\":\"\"},\"colorscale\":[[0.0,\"#0d0887\"],[0.1111111111111111,\"#46039f\"],[0.2222222222222222,\"#7201a8\"],[0.3333333333333333,\"#9c179e\"],[0.4444444444444444,\"#bd3786\"],[0.5555555555555556,\"#d8576b\"],[0.6666666666666666,\"#ed7953\"],[0.7777777777777778,\"#fb9f3a\"],[0.8888888888888888,\"#fdca26\"],[1.0,\"#f0f921\"]]}],\"mesh3d\":[{\"type\":\"mesh3d\",\"colorbar\":{\"outlinewidth\":0,\"ticks\":\"\"}}],\"scatter\":[{\"fillpattern\":{\"fillmode\":\"overlay\",\"size\":10,\"solidity\":0.2},\"type\":\"scatter\"}],\"parcoords\":[{\"type\":\"parcoords\",\"line\":{\"colorbar\":{\"outlinewidth\":0,\"ticks\":\"\"}}}],\"scatterpolargl\":[{\"type\":\"scatterpolargl\",\"marker\":{\"colorbar\":{\"outlinewidth\":0,\"ticks\":\"\"}}}],\"bar\":[{\"error_x\":{\"color\":\"#2a3f5f\"},\"error_y\":{\"color\":\"#2a3f5f\"},\"marker\":{\"line\":{\"color\":\"#E5ECF6\",\"width\":0.5},\"pattern\":{\"fillmode\":\"overlay\",\"size\":10,\"solidity\":0.2}},\"type\":\"bar\"}],\"scattergeo\":[{\"type\":\"scattergeo\",\"marker\":{\"colorbar\":{\"outlinewidth\":0,\"ticks\":\"\"}}}],\"scatterpolar\":[{\"type\":\"scatterpolar\",\"marker\":{\"colorbar\":{\"outlinewidth\":0,\"ticks\":\"\"}}}],\"histogram\":[{\"marker\":{\"pattern\":{\"fillmode\":\"overlay\",\"size\":10,\"solidity\":0.2}},\"type\":\"histogram\"}],\"scattergl\":[{\"type\":\"scattergl\",\"marker\":{\"colorbar\":{\"outlinewidth\":0,\"ticks\":\"\"}}}],\"scatter3d\":[{\"type\":\"scatter3d\",\"line\":{\"colorbar\":{\"outlinewidth\":0,\"ticks\":\"\"}},\"marker\":{\"colorbar\":{\"outlinewidth\":0,\"ticks\":\"\"}}}],\"scattermapbox\":[{\"type\":\"scattermapbox\",\"marker\":{\"colorbar\":{\"outlinewidth\":0,\"ticks\":\"\"}}}],\"scatterternary\":[{\"type\":\"scatterternary\",\"marker\":{\"colorbar\":{\"outlinewidth\":0,\"ticks\":\"\"}}}],\"scattercarpet\":[{\"type\":\"scattercarpet\",\"marker\":{\"colorbar\":{\"outlinewidth\":0,\"ticks\":\"\"}}}],\"carpet\":[{\"aaxis\":{\"endlinecolor\":\"#2a3f5f\",\"gridcolor\":\"white\",\"linecolor\":\"white\",\"minorgridcolor\":\"white\",\"startlinecolor\":\"#2a3f5f\"},\"baxis\":{\"endlinecolor\":\"#2a3f5f\",\"gridcolor\":\"white\",\"linecolor\":\"white\",\"minorgridcolor\":\"white\",\"startlinecolor\":\"#2a3f5f\"},\"type\":\"carpet\"}],\"table\":[{\"cells\":{\"fill\":{\"color\":\"#EBF0F8\"},\"line\":{\"color\":\"white\"}},\"header\":{\"fill\":{\"color\":\"#C8D4E3\"},\"line\":{\"color\":\"white\"}},\"type\":\"table\"}],\"barpolar\":[{\"marker\":{\"line\":{\"color\":\"#E5ECF6\",\"width\":0.5},\"pattern\":{\"fillmode\":\"overlay\",\"size\":10,\"solidity\":0.2}},\"type\":\"barpolar\"}],\"pie\":[{\"automargin\":true,\"type\":\"pie\"}]},\"layout\":{\"autotypenumbers\":\"strict\",\"colorway\":[\"#636efa\",\"#EF553B\",\"#00cc96\",\"#ab63fa\",\"#FFA15A\",\"#19d3f3\",\"#FF6692\",\"#B6E880\",\"#FF97FF\",\"#FECB52\"],\"font\":{\"color\":\"#2a3f5f\"},\"hovermode\":\"closest\",\"hoverlabel\":{\"align\":\"left\"},\"paper_bgcolor\":\"white\",\"plot_bgcolor\":\"#E5ECF6\",\"polar\":{\"bgcolor\":\"#E5ECF6\",\"angularaxis\":{\"gridcolor\":\"white\",\"linecolor\":\"white\",\"ticks\":\"\"},\"radialaxis\":{\"gridcolor\":\"white\",\"linecolor\":\"white\",\"ticks\":\"\"}},\"ternary\":{\"bgcolor\":\"#E5ECF6\",\"aaxis\":{\"gridcolor\":\"white\",\"linecolor\":\"white\",\"ticks\":\"\"},\"baxis\":{\"gridcolor\":\"white\",\"linecolor\":\"white\",\"ticks\":\"\"},\"caxis\":{\"gridcolor\":\"white\",\"linecolor\":\"white\",\"ticks\":\"\"}},\"coloraxis\":{\"colorbar\":{\"outlinewidth\":0,\"ticks\":\"\"}},\"colorscale\":{\"sequential\":[[0.0,\"#0d0887\"],[0.1111111111111111,\"#46039f\"],[0.2222222222222222,\"#7201a8\"],[0.3333333333333333,\"#9c179e\"],[0.4444444444444444,\"#bd3786\"],[0.5555555555555556,\"#d8576b\"],[0.6666666666666666,\"#ed7953\"],[0.7777777777777778,\"#fb9f3a\"],[0.8888888888888888,\"#fdca26\"],[1.0,\"#f0f921\"]],\"sequentialminus\":[[0.0,\"#0d0887\"],[0.1111111111111111,\"#46039f\"],[0.2222222222222222,\"#7201a8\"],[0.3333333333333333,\"#9c179e\"],[0.4444444444444444,\"#bd3786\"],[0.5555555555555556,\"#d8576b\"],[0.6666666666666666,\"#ed7953\"],[0.7777777777777778,\"#fb9f3a\"],[0.8888888888888888,\"#fdca26\"],[1.0,\"#f0f921\"]],\"diverging\":[[0,\"#8e0152\"],[0.1,\"#c51b7d\"],[0.2,\"#de77ae\"],[0.3,\"#f1b6da\"],[0.4,\"#fde0ef\"],[0.5,\"#f7f7f7\"],[0.6,\"#e6f5d0\"],[0.7,\"#b8e186\"],[0.8,\"#7fbc41\"],[0.9,\"#4d9221\"],[1,\"#276419\"]]},\"xaxis\":{\"gridcolor\":\"white\",\"linecolor\":\"white\",\"ticks\":\"\",\"title\":{\"standoff\":15},\"zerolinecolor\":\"white\",\"automargin\":true,\"zerolinewidth\":2},\"yaxis\":{\"gridcolor\":\"white\",\"linecolor\":\"white\",\"ticks\":\"\",\"title\":{\"standoff\":15},\"zerolinecolor\":\"white\",\"automargin\":true,\"zerolinewidth\":2},\"scene\":{\"xaxis\":{\"backgroundcolor\":\"#E5ECF6\",\"gridcolor\":\"white\",\"linecolor\":\"white\",\"showbackground\":true,\"ticks\":\"\",\"zerolinecolor\":\"white\",\"gridwidth\":2},\"yaxis\":{\"backgroundcolor\":\"#E5ECF6\",\"gridcolor\":\"white\",\"linecolor\":\"white\",\"showbackground\":true,\"ticks\":\"\",\"zerolinecolor\":\"white\",\"gridwidth\":2},\"zaxis\":{\"backgroundcolor\":\"#E5ECF6\",\"gridcolor\":\"white\",\"linecolor\":\"white\",\"showbackground\":true,\"ticks\":\"\",\"zerolinecolor\":\"white\",\"gridwidth\":2}},\"shapedefaults\":{\"line\":{\"color\":\"#2a3f5f\"}},\"annotationdefaults\":{\"arrowcolor\":\"#2a3f5f\",\"arrowhead\":0,\"arrowwidth\":1},\"geo\":{\"bgcolor\":\"white\",\"landcolor\":\"#E5ECF6\",\"subunitcolor\":\"white\",\"showland\":true,\"showlakes\":true,\"lakecolor\":\"white\"},\"title\":{\"x\":0.05},\"mapbox\":{\"style\":\"light\"}}},\"xaxis\":{\"anchor\":\"y\",\"domain\":[0.0,1.0],\"title\":{\"text\":\"Average Total Funding (USD)\"}},\"yaxis\":{\"anchor\":\"x\",\"domain\":[0.0,1.0],\"title\":{\"text\":\"City\"}},\"legend\":{\"tracegroupgap\":0},\"title\":{\"text\":\"Cities with Top Average Total funding(USD)\"},\"barmode\":\"relative\"},                        {\"responsive\": true}                    ).then(function(){\n",
              "                            \n",
              "var gd = document.getElementById('30be99f8-cf0b-4cd8-aee2-b5dfb1eb2958');\n",
              "var x = new MutationObserver(function (mutations, observer) {{\n",
              "        var display = window.getComputedStyle(gd).display;\n",
              "        if (!display || display === 'none') {{\n",
              "            console.log([gd, 'removed!']);\n",
              "            Plotly.purge(gd);\n",
              "            observer.disconnect();\n",
              "        }}\n",
              "}});\n",
              "\n",
              "// Listen for the removal of the full notebook cells\n",
              "var notebookContainer = gd.closest('#notebook-container');\n",
              "if (notebookContainer) {{\n",
              "    x.observe(notebookContainer, {childList: true});\n",
              "}}\n",
              "\n",
              "// Listen for the clearing of the current output cell\n",
              "var outputEl = gd.closest('.output');\n",
              "if (outputEl) {{\n",
              "    x.observe(outputEl, {childList: true});\n",
              "}}\n",
              "\n",
              "                        })                };                            </script>        </div>\n",
              "</body>\n",
              "</html>"
            ]
          },
          "metadata": {}
        }
      ]
    },
    {
      "cell_type": "code",
      "source": [],
      "metadata": {
        "id": "bTojX31Ha0NE"
      },
      "execution_count": null,
      "outputs": []
    }
  ]
}